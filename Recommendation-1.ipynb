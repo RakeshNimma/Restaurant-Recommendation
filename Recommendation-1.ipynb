{
 "cells": [
  {
   "cell_type": "code",
   "execution_count": 0,
   "metadata": {
    "colab": {},
    "colab_type": "code",
    "id": "jPBK2SLgJ29E"
   },
   "outputs": [],
   "source": [
    "import pandas as pd\n",
    "import matplotlib.pyplot as plt\n",
    "import seaborn as sb\n",
    "pd.set_option('display.width', 1000)"
   ]
  },
  {
   "cell_type": "code",
   "execution_count": 0,
   "metadata": {
    "colab": {},
    "colab_type": "code",
    "id": "ROzFRhhOKFkT"
   },
   "outputs": [],
   "source": [
    "data = pd.read_csv('/content/drive/My Drive/Recommendation Food Restaurant/dataset_food_online.csv')"
   ]
  },
  {
   "cell_type": "code",
   "execution_count": 4,
   "metadata": {
    "colab": {
     "base_uri": "https://localhost:8080/",
     "height": 666
    },
    "colab_type": "code",
    "executionInfo": {
     "elapsed": 2609,
     "status": "ok",
     "timestamp": 1571672059207,
     "user": {
      "displayName": "Rakesh Nimma",
      "photoUrl": "",
      "userId": "14005108656575011618"
     },
     "user_tz": -330
    },
    "id": "SrHnkFGnKMNj",
    "outputId": "138ced66-59e3-4f53-de5d-4e1a6d8d098a"
   },
   "outputs": [
    {
     "data": {
      "text/html": [
       "<div>\n",
       "<style scoped>\n",
       "    .dataframe tbody tr th:only-of-type {\n",
       "        vertical-align: middle;\n",
       "    }\n",
       "\n",
       "    .dataframe tbody tr th {\n",
       "        vertical-align: top;\n",
       "    }\n",
       "\n",
       "    .dataframe thead th {\n",
       "        text-align: right;\n",
       "    }\n",
       "</style>\n",
       "<table border=\"1\" class=\"dataframe\">\n",
       "  <thead>\n",
       "    <tr style=\"text-align: right;\">\n",
       "      <th></th>\n",
       "      <th>business_id</th>\n",
       "      <th>date</th>\n",
       "      <th>review_id</th>\n",
       "      <th>stars</th>\n",
       "      <th>text</th>\n",
       "      <th>type</th>\n",
       "      <th>user_id</th>\n",
       "      <th>cool</th>\n",
       "      <th>useful</th>\n",
       "      <th>funny</th>\n",
       "    </tr>\n",
       "  </thead>\n",
       "  <tbody>\n",
       "    <tr>\n",
       "      <th>0</th>\n",
       "      <td>9yKzy9PApeiPPOUJEtnvkg</td>\n",
       "      <td>2011-01-26</td>\n",
       "      <td>fWKvX83p0-ka4JS3dc6E5A</td>\n",
       "      <td>5</td>\n",
       "      <td>My wife took me here on my birthday for breakf...</td>\n",
       "      <td>review</td>\n",
       "      <td>rLtl8ZkDX5vH5nAx9C3q5Q</td>\n",
       "      <td>2</td>\n",
       "      <td>5</td>\n",
       "      <td>0</td>\n",
       "    </tr>\n",
       "    <tr>\n",
       "      <th>1</th>\n",
       "      <td>ZRJwVLyzEJq1VAihDhYiow</td>\n",
       "      <td>2011-07-27</td>\n",
       "      <td>IjZ33sJrzXqU-0X6U8NwyA</td>\n",
       "      <td>5</td>\n",
       "      <td>I have no idea why some people give bad review...</td>\n",
       "      <td>review</td>\n",
       "      <td>0a2KyEL0d3Yb1V6aivbIuQ</td>\n",
       "      <td>0</td>\n",
       "      <td>0</td>\n",
       "      <td>0</td>\n",
       "    </tr>\n",
       "    <tr>\n",
       "      <th>2</th>\n",
       "      <td>6oRAC4uyJCsJl1X0WZpVSA</td>\n",
       "      <td>2012-06-14</td>\n",
       "      <td>IESLBzqUCLdSzSqm0eCSxQ</td>\n",
       "      <td>4</td>\n",
       "      <td>love the gyro plate.]Rice is so good and I als...</td>\n",
       "      <td>review</td>\n",
       "      <td>0hT2KtfLiobPvh6cDC8JQg</td>\n",
       "      <td>0</td>\n",
       "      <td>1</td>\n",
       "      <td>0</td>\n",
       "    </tr>\n",
       "    <tr>\n",
       "      <th>3</th>\n",
       "      <td>_1QQZuf4zZOyFCvXc0o6Vg</td>\n",
       "      <td>2010-05-27</td>\n",
       "      <td>G-WvGaISbqqaMHlNnByodA</td>\n",
       "      <td>5</td>\n",
       "      <td>Rosie, Dakota, and I LOVE Chaparral Dog Park!!...</td>\n",
       "      <td>review</td>\n",
       "      <td>uZetl9T0NcROGOyFfughhg</td>\n",
       "      <td>1</td>\n",
       "      <td>2</td>\n",
       "      <td>0</td>\n",
       "    </tr>\n",
       "    <tr>\n",
       "      <th>4</th>\n",
       "      <td>6ozycU1RpktNG2-1BroVtw</td>\n",
       "      <td>2012-01-05</td>\n",
       "      <td>1uJFq2r5QfJG_6ExMRCaGw</td>\n",
       "      <td>5</td>\n",
       "      <td>General Manager Scott Petello is a good egg!!!...</td>\n",
       "      <td>review</td>\n",
       "      <td>vYmM4KTsC8ZfQBg-j5MWkw</td>\n",
       "      <td>0</td>\n",
       "      <td>0</td>\n",
       "      <td>0</td>\n",
       "    </tr>\n",
       "  </tbody>\n",
       "</table>\n",
       "</div>"
      ],
      "text/plain": [
       "              business_id        date  ... useful  funny\n",
       "0  9yKzy9PApeiPPOUJEtnvkg  2011-01-26  ...      5      0\n",
       "1  ZRJwVLyzEJq1VAihDhYiow  2011-07-27  ...      0      0\n",
       "2  6oRAC4uyJCsJl1X0WZpVSA  2012-06-14  ...      1      0\n",
       "3  _1QQZuf4zZOyFCvXc0o6Vg  2010-05-27  ...      2      0\n",
       "4  6ozycU1RpktNG2-1BroVtw  2012-01-05  ...      0      0\n",
       "\n",
       "[5 rows x 10 columns]"
      ]
     },
     "execution_count": 4,
     "metadata": {
      "tags": []
     },
     "output_type": "execute_result"
    }
   ],
   "source": [
    "data.head()"
   ]
  },
  {
   "cell_type": "code",
   "execution_count": 5,
   "metadata": {
    "colab": {
     "base_uri": "https://localhost:8080/",
     "height": 272
    },
    "colab_type": "code",
    "executionInfo": {
     "elapsed": 2008,
     "status": "ok",
     "timestamp": 1571672059208,
     "user": {
      "displayName": "Rakesh Nimma",
      "photoUrl": "",
      "userId": "14005108656575011618"
     },
     "user_tz": -330
    },
    "id": "zGBy2jGVKRWK",
    "outputId": "dabe171c-207f-4a9f-a58e-dd5d88826720"
   },
   "outputs": [
    {
     "name": "stdout",
     "output_type": "stream",
     "text": [
      "<class 'pandas.core.frame.DataFrame'>\n",
      "RangeIndex: 10000 entries, 0 to 9999\n",
      "Data columns (total 10 columns):\n",
      "business_id    10000 non-null object\n",
      "date           10000 non-null object\n",
      "review_id      10000 non-null object\n",
      "stars          10000 non-null int64\n",
      "text           10000 non-null object\n",
      "type           10000 non-null object\n",
      "user_id        10000 non-null object\n",
      "cool           10000 non-null int64\n",
      "useful         10000 non-null int64\n",
      "funny          10000 non-null int64\n",
      "dtypes: int64(4), object(6)\n",
      "memory usage: 781.3+ KB\n"
     ]
    }
   ],
   "source": [
    "data.info()"
   ]
  },
  {
   "cell_type": "code",
   "execution_count": 6,
   "metadata": {
    "colab": {
     "base_uri": "https://localhost:8080/",
     "height": 204
    },
    "colab_type": "code",
    "executionInfo": {
     "elapsed": 1906,
     "status": "ok",
     "timestamp": 1571672062520,
     "user": {
      "displayName": "Rakesh Nimma",
      "photoUrl": "",
      "userId": "14005108656575011618"
     },
     "user_tz": -330
    },
    "id": "pT_REn9XIrUn",
    "outputId": "83f7d6c9-1037-4eb7-b2c0-42454bcec43e"
   },
   "outputs": [
    {
     "data": {
      "text/plain": [
       "business_id    0\n",
       "date           0\n",
       "review_id      0\n",
       "stars          0\n",
       "text           0\n",
       "type           0\n",
       "user_id        0\n",
       "cool           0\n",
       "useful         0\n",
       "funny          0\n",
       "dtype: int64"
      ]
     },
     "execution_count": 6,
     "metadata": {
      "tags": []
     },
     "output_type": "execute_result"
    }
   ],
   "source": [
    "data.isnull().sum()"
   ]
  },
  {
   "cell_type": "code",
   "execution_count": 7,
   "metadata": {
    "colab": {
     "base_uri": "https://localhost:8080/",
     "height": 1000
    },
    "colab_type": "code",
    "executionInfo": {
     "elapsed": 2012,
     "status": "ok",
     "timestamp": 1571672065803,
     "user": {
      "displayName": "Rakesh Nimma",
      "photoUrl": "",
      "userId": "14005108656575011618"
     },
     "user_tz": -330
    },
    "id": "YRF70-0dKTL1",
    "outputId": "63566707-9404-45fa-8cb9-80bacc75f5ca"
   },
   "outputs": [
    {
     "data": {
      "text/plain": [
       "JokKtdXU7zXHcr20Lrk29A    37\n",
       "ntN85eu27C04nwyPa8IHtw    37\n",
       "hW0Ne_HTHEAgGF1rAdmR-g    34\n",
       "WNy1uzcmm_UHmTyR--o5IA    32\n",
       "VVeogjZya58oiTxK7qUjAQ    31\n",
       "V1nEpIRmEa1768oj_tuxeQ    30\n",
       "SDwYQ6eSu1htn8vHWv128g    25\n",
       "uKSX1n1RoAzGq4bV8GPHVg    25\n",
       "EWMwV5V9BxNs_U6nNVMeqw    24\n",
       "-sC66z4SO3tR7nFCjfQwuQ    24\n",
       "QnAzW6KMSciUcuJ20oI3Bw    24\n",
       "xY1sPHTA2RGVFlh5tZhs9g    23\n",
       "c1yGkETheht_1vjda7G5sA    23\n",
       "FV0BkoGOd3Yu_eJnXY15ZA    22\n",
       "5VMajxduxfLPSyQkVFKESg    22\n",
       "aRkYtXfmEKYG-eTDf_qUsw    22\n",
       "53YGfwmbW73JhFiemNeyzQ    22\n",
       "Zx8_4zKdDBSO3qGrkukBIA    21\n",
       "uEJQSIjWui-TDWXaGlcqyQ    21\n",
       "sbsFamEj5wDxNAjUKrMcSw    21\n",
       "R8VwdLyvsp9iybNqRvm94g    20\n",
       "d3MxUXS1b6U2P_gGuCO1-A    20\n",
       "1NZLxU5WvB5roPFzneAlLw    19\n",
       "PmPOuRvuN3CoNOi1nBj_TQ    19\n",
       "rZbHg4ACfN3iShdsT47WKQ    19\n",
       "L9UYbtAUOcfTgZFimehlXw    19\n",
       "AqbgC7Gul5Es1rRzGNLDFA    19\n",
       "qjmCVYkwP-HDa35jwYucbQ    19\n",
       "cN6aBxe2mQvrQlzk26LyRQ    18\n",
       "YQvg0JCGRFUkb6reMMf3Iw    18\n",
       "                          ..\n",
       "nl5ifGmOQMw-MlMO_tdnbg     1\n",
       "HAuSPJgHNNRThgfXM103jQ     1\n",
       "IBNHRj-NLfA-FlKnWxZDQg     1\n",
       "zgobrpk3RbFz6o2M4uSl8A     1\n",
       "8HmSt7fRFe-uH6i4yCmJQQ     1\n",
       "qugpY0TRuenI5fMFdegMUQ     1\n",
       "ptHERlqZTrluKh1DJUTz1w     1\n",
       "I5xBrzmTIUKHlj01JU6Z5w     1\n",
       "kP_NxoI4DyQ1y60i5xsTCQ     1\n",
       "DrTsV4u-X6hft0aRjKCwMg     1\n",
       "ZT4yweuACGHR9KtlqPJpiA     1\n",
       "_7EJtWjOjZsBUNRvzw-_Xg     1\n",
       "mSBLrQ5pCeKMPXlwR_f7hA     1\n",
       "-_Ke8q969OAwEE_-U0qUjw     1\n",
       "YK-QsFBiLRy-dt2o-x_SRw     1\n",
       "kVHEdvgO-UyxfXC-2f7KuQ     1\n",
       "-1N0Z3uM8xbxKS8XiAnaog     1\n",
       "s5roBvbA79SQaO4FHkJgGw     1\n",
       "oY8cUWaYUsGjkapcKADLRw     1\n",
       "EFSU5EPU8VsZmrjbTxjc4A     1\n",
       "qAORECtABjr_FsvSzy1apw     1\n",
       "1-1VcGTL3GyCqUpXZLFTZA     1\n",
       "Pka4ncyteQ0nmq82AgPrYg     1\n",
       "SwMqbqCLXy8XDH1rEGQ8rw     1\n",
       "DnA5Ec7DOvaaCxmnLx2iYw     1\n",
       "7a8nSGq152yAkKVKmsqpng     1\n",
       "ukUuBT8zVXNC7Zz34cctAw     1\n",
       "T4VsuYbgEqp1n_FghmFg2w     1\n",
       "4NpEP2sTOxm4Cw1SuXuGRQ     1\n",
       "DaQJ7ykf8MkEWrIYA_9J7Q     1\n",
       "Name: business_id, Length: 4174, dtype: int64"
      ]
     },
     "execution_count": 7,
     "metadata": {
      "tags": []
     },
     "output_type": "execute_result"
    }
   ],
   "source": [
    "data.business_id.value_counts()"
   ]
  },
  {
   "cell_type": "code",
   "execution_count": 8,
   "metadata": {
    "colab": {
     "base_uri": "https://localhost:8080/",
     "height": 1000
    },
    "colab_type": "code",
    "executionInfo": {
     "elapsed": 2608,
     "status": "ok",
     "timestamp": 1571672069176,
     "user": {
      "displayName": "Rakesh Nimma",
      "photoUrl": "",
      "userId": "14005108656575011618"
     },
     "user_tz": -330
    },
    "id": "wQpGRj4YLS2e",
    "outputId": "f6e1805b-e28d-4a97-b251-051233220bbc"
   },
   "outputs": [
    {
     "data": {
      "text/plain": [
       "Vz6K-_m6CBcpkQVCuVeDug    1\n",
       "Cjzu_kQeY2e3ToXHSGKfNw    1\n",
       "0_4XOZ-O239bx04chvU_ug    1\n",
       "Q-y3jSqccdytKxAyo1J0Xg    1\n",
       "JKewmprAMD-uIp2mjOO9zQ    1\n",
       "IpgWj3_uS5s5x2L8MUkOOA    1\n",
       "CbPHYxK4B8bRpRha4W9Feg    1\n",
       "iXiDZ0_T29qzmGkhhj1izA    1\n",
       "_jROvzttf8pNbkeUKVmulQ    1\n",
       "q1S7og5Hywdg41eyAttdng    1\n",
       "r8XAVBZfl2IxrDmGEEgEOA    1\n",
       "s-jh1Sht7J55XVd4R3Exbw    1\n",
       "7Y5pqMMFE3L1XNUz2_uRJA    1\n",
       "TDqE8xeg_fx2BqDO0jU3FQ    1\n",
       "UC9eZI67PzxRiUwODAxOEw    1\n",
       "U0afD_agmRIocRWnAtaBkQ    1\n",
       "q4yypayig8V8lO3Qg7rb2w    1\n",
       "KowGVoP_gygzdSu6Mt3zKQ    1\n",
       "GTu-AyZ6M5XqTWUoPtMwvg    1\n",
       "BMmK7VMY4KuG74GaZBZaQg    1\n",
       "pY4QTKUcH6bpBtl4yeOMaw    1\n",
       "JB22Hz08FvceJBiP0yt2XQ    1\n",
       "DxytTlXMmp71oKhWanBFKA    1\n",
       "ssxtRkC4mLcnxgdmbk7Z9A    1\n",
       "4HauhOnomrQxb3KPvIm_cA    1\n",
       "C5SAWaJC7LpRnw56gy5fQA    1\n",
       "G6YUVoYwRI1sQ6zjWuiFXw    1\n",
       "JajBITnpkrsojj-Hpq-0Yg    1\n",
       "FRSH8JUOu01T_OBkxbf_xg    1\n",
       "8_kApqXYlcHZ8tui7jY6pw    1\n",
       "                         ..\n",
       "Ex_aRk89hnrPF5lsMt-SiA    1\n",
       "pa5aGV_Fc6KW99Lac265QA    1\n",
       "Zb6qK9ORkoIJslTVC1kEVQ    1\n",
       "gVkEHGYJ9d6FiohApDoqBg    1\n",
       "375FZOmt26F1U2CS1bz93Q    1\n",
       "Qknh9DCPsCC7-yjzIqzWmw    1\n",
       "UU5rtuGMy9nsV-vkhgflUg    1\n",
       "sOAIfa0bwmytl5oMIhDJJQ    1\n",
       "wv0kt4QNleL3Ia2SfJRx5w    1\n",
       "QvBlywDSjJbyqnJqfTI9cA    1\n",
       "YF17z7HWlMj6aezZc-pVEw    1\n",
       "gwbYi4ykkOKh3CKJXIbtcA    1\n",
       "eRm_2IWGdWO8BgkAF1N78w    1\n",
       "rjL18zsmqUU00_cgQwcv-Q    1\n",
       "4xqSM_YHo_swoGNc-KU1EQ    1\n",
       "dYw7WQkpVeK4e_A4Yxv0iQ    1\n",
       "nAJ0HvYhoUjo5wKMewK7iA    1\n",
       "Xweq4Rg4yXIEtXPPGshmIQ    1\n",
       "Uzisz3l_LnK-kF34CDq5Nw    1\n",
       "Nr7abBBN4um7PRkNjKAI3A    1\n",
       "_Isv_I1fux-qnFHMEAXd5w    1\n",
       "aeXZGKD0_pgnHyZKxYU45w    1\n",
       "Sfn_8kwUm-Sug60MDRXA9g    1\n",
       "INgYGonM78YMB-5vpfoPQQ    1\n",
       "aDzPkWD2l5g_OlrWxUb65g    1\n",
       "KtyaE9HrKEk1m7VXfsTSGA    1\n",
       "aKDiEOhSMwcq0IHH8Ra7WA    1\n",
       "LtAsU-F4DE0dhUWTL51YpQ    1\n",
       "PPKqCT-Nc3UxMWqL34x51Q    1\n",
       "jr3tV_oCvt8mHq9VgyLORA    1\n",
       "Name: review_id, Length: 10000, dtype: int64"
      ]
     },
     "execution_count": 8,
     "metadata": {
      "tags": []
     },
     "output_type": "execute_result"
    }
   ],
   "source": [
    "data.review_id.value_counts()"
   ]
  },
  {
   "cell_type": "code",
   "execution_count": 9,
   "metadata": {
    "colab": {
     "base_uri": "https://localhost:8080/",
     "height": 119
    },
    "colab_type": "code",
    "executionInfo": {
     "elapsed": 1561,
     "status": "ok",
     "timestamp": 1571672072384,
     "user": {
      "displayName": "Rakesh Nimma",
      "photoUrl": "",
      "userId": "14005108656575011618"
     },
     "user_tz": -330
    },
    "id": "EMXV-hlNLxqE",
    "outputId": "eb83e4af-0a07-407e-f6cf-552925eea05b"
   },
   "outputs": [
    {
     "data": {
      "text/plain": [
       "4    3526\n",
       "5    3337\n",
       "3    1461\n",
       "2     927\n",
       "1     749\n",
       "Name: stars, dtype: int64"
      ]
     },
     "execution_count": 9,
     "metadata": {
      "tags": []
     },
     "output_type": "execute_result"
    }
   ],
   "source": [
    "data.stars.value_counts()"
   ]
  },
  {
   "cell_type": "code",
   "execution_count": 10,
   "metadata": {
    "colab": {
     "base_uri": "https://localhost:8080/",
     "height": 1000
    },
    "colab_type": "code",
    "executionInfo": {
     "elapsed": 1466,
     "status": "ok",
     "timestamp": 1571672072817,
     "user": {
      "displayName": "Rakesh Nimma",
      "photoUrl": "",
      "userId": "14005108656575011618"
     },
     "user_tz": -330
    },
    "id": "tLTFuKCfMSJ-",
    "outputId": "00dd186e-ec61-4f2b-c7da-7bde74f100b8"
   },
   "outputs": [
    {
     "data": {
      "text/plain": [
       "fczQCSmaWF78toLEmb0Zsw    38\n",
       "0CMz8YaO3f8xu4KqQgKb9Q    25\n",
       "90a6z--_CUrl84aCzZyPsg    22\n",
       "0mqHhdKEdak_A1FBhFNXqA    18\n",
       "4ozupHULqGyO42s3zNUzOQ    18\n",
       "wHg1YkCzdZq9WBJOTRgxHQ    17\n",
       "0bNXP9quoJEgyVZu9ipGgQ    16\n",
       "_PzSNcfrCjeBxSLXRoMmgQ    16\n",
       "joIzw_aUiNvBTuGoytrH7g    15\n",
       "JgDkCER12uiv4lbpmkZ9VA    15\n",
       "uZbTb-u-GVjTa2gtQfry5g    15\n",
       "rLtl8ZkDX5vH5nAx9C3q5Q    15\n",
       "ikm0UCahtK34LbLCEw4YTw    14\n",
       "pEVf8GRshP9HUkSpizc9LA    14\n",
       "XqMkm-DD9VsdcKx2YVGhSA    14\n",
       "ST8Yzlk2MqKlcaLqL2djBg    14\n",
       "wC1CPV5bf--bDLtlhNSPLg    13\n",
       "P2kVk4cIWyK4e4h14RhK-Q    12\n",
       "fev0iI-XDrteD4SYRKjiUw    12\n",
       "JffajLV-Dnn-eGYgdXDxFg    12\n",
       "W_QXYA7A0IhMrvbckz7eVg    12\n",
       "APLIPfq1Rf8QyhHHk2uAyA    12\n",
       "M6oU3OBf_E6gqlfkLGlStQ    12\n",
       "lPaYMDmJbAnv_3pmZH_inw    12\n",
       "6ts41fCsDKHbFZaKOMNmVQ    11\n",
       "h7v_M_0-YVpSVZ2WD7FpAA    11\n",
       "T5mD6ggC7fh48QgXR0LevA    11\n",
       "7GC9fVWKa4a1ZmBGLH6Uww    11\n",
       "LqgGgWi3FLHBViX9tmZ9sw    11\n",
       "Kqvfep2mxS10S50FbVDi4Q    11\n",
       "                          ..\n",
       "6kmPFBSUOZqu8kQpOBzD7Q     1\n",
       "IGWmrl24TF2qDbuZE8JWcg     1\n",
       "AE0K8fveXdUu89GnCSI16Q     1\n",
       "YIiQx-XtRVKWVQ4LCaEuLA     1\n",
       "Gcq-9mRx7lWkoHD4eo7sXg     1\n",
       "9yYmdZw5ehjBAVQ187kxXA     1\n",
       "wapnZrMhivxyy0djBaHoeg     1\n",
       "4UmzR0mTv3_8JunST1kh-w     1\n",
       "Y9LxzNvQxKwLhy2Zo7R_4w     1\n",
       "JzcOAtuVYtP8Phih3v1CaA     1\n",
       "X8pfLhF0LABJ5LNeuowCKA     1\n",
       "rBeuXzsBkGxM5pJujH2zAQ     1\n",
       "Sve2h1r-jOyaoGY2GYL0WA     1\n",
       "Ajrx5XuFoBqZk3HKAm76-w     1\n",
       "SSUp9ZVTgaxQ2SweskkO0g     1\n",
       "UDBYhBP8avCa-2iZb71Ixw     1\n",
       "EzjJ536eGHoR7xDF1XgeoA     1\n",
       "9v-aHckN0L0r_7pC2Azvrg     1\n",
       "6C30U6eLu10KNJYfhCUL2Q     1\n",
       "3lmbN9XXScviLES_MWo3wg     1\n",
       "HxqVJRFrrqi-FD_Xq3CXSg     1\n",
       "d1vSOBq_RauHGpCh7VN7KA     1\n",
       "fU8x-3qi65tX19KAyvT4vw     1\n",
       "ClptG3R38wR_xM9XVR-bEA     1\n",
       "PhEh4712X4Vp0PsMROwvpw     1\n",
       "6XDBxbqC3kD5xvQMCkwhNQ     1\n",
       "OL-OR_j5QE_7tpo6Yh053g     1\n",
       "UuYVbqDgndlqJvX2yjdS6A     1\n",
       "k8QnA7UNbe5DBCmYqxYs8Q     1\n",
       "St8bDCbyyftkKVhXUssPJg     1\n",
       "Name: user_id, Length: 6403, dtype: int64"
      ]
     },
     "execution_count": 10,
     "metadata": {
      "tags": []
     },
     "output_type": "execute_result"
    }
   ],
   "source": [
    "data.user_id.value_counts()"
   ]
  },
  {
   "cell_type": "code",
   "execution_count": 11,
   "metadata": {
    "colab": {
     "base_uri": "https://localhost:8080/",
     "height": 527
    },
    "colab_type": "code",
    "executionInfo": {
     "elapsed": 868,
     "status": "ok",
     "timestamp": 1571672074702,
     "user": {
      "displayName": "Rakesh Nimma",
      "photoUrl": "",
      "userId": "14005108656575011618"
     },
     "user_tz": -330
    },
    "id": "a1lzdliCMSRQ",
    "outputId": "a313fe85-e840-4241-8680-cac6716cfa7a"
   },
   "outputs": [
    {
     "data": {
      "text/plain": [
       "0     6290\n",
       "1     1955\n",
       "2      749\n",
       "3      396\n",
       "4      209\n",
       "5      119\n",
       "6       88\n",
       "7       41\n",
       "8       31\n",
       "10      30\n",
       "11      17\n",
       "9       15\n",
       "13      14\n",
       "14      10\n",
       "12       9\n",
       "16       6\n",
       "15       5\n",
       "17       5\n",
       "27       1\n",
       "19       1\n",
       "22       1\n",
       "18       1\n",
       "20       1\n",
       "38       1\n",
       "28       1\n",
       "21       1\n",
       "32       1\n",
       "77       1\n",
       "23       1\n",
       "Name: cool, dtype: int64"
      ]
     },
     "execution_count": 11,
     "metadata": {
      "tags": []
     },
     "output_type": "execute_result"
    }
   ],
   "source": [
    "data.cool.value_counts()"
   ]
  },
  {
   "cell_type": "code",
   "execution_count": 12,
   "metadata": {
    "colab": {
     "base_uri": "https://localhost:8080/",
     "height": 666
    },
    "colab_type": "code",
    "executionInfo": {
     "elapsed": 857,
     "status": "ok",
     "timestamp": 1571672076615,
     "user": {
      "displayName": "Rakesh Nimma",
      "photoUrl": "",
      "userId": "14005108656575011618"
     },
     "user_tz": -330
    },
    "id": "2cjDNr4xMSUH",
    "outputId": "f65c0920-f4d1-43cc-bc3e-5560db1422be"
   },
   "outputs": [
    {
     "data": {
      "text/html": [
       "<div>\n",
       "<style scoped>\n",
       "    .dataframe tbody tr th:only-of-type {\n",
       "        vertical-align: middle;\n",
       "    }\n",
       "\n",
       "    .dataframe tbody tr th {\n",
       "        vertical-align: top;\n",
       "    }\n",
       "\n",
       "    .dataframe thead th {\n",
       "        text-align: right;\n",
       "    }\n",
       "</style>\n",
       "<table border=\"1\" class=\"dataframe\">\n",
       "  <thead>\n",
       "    <tr style=\"text-align: right;\">\n",
       "      <th></th>\n",
       "      <th>business_id</th>\n",
       "      <th>date</th>\n",
       "      <th>review_id</th>\n",
       "      <th>stars</th>\n",
       "      <th>text</th>\n",
       "      <th>type</th>\n",
       "      <th>user_id</th>\n",
       "      <th>cool</th>\n",
       "      <th>useful</th>\n",
       "      <th>funny</th>\n",
       "    </tr>\n",
       "  </thead>\n",
       "  <tbody>\n",
       "    <tr>\n",
       "      <th>0</th>\n",
       "      <td>9yKzy9PApeiPPOUJEtnvkg</td>\n",
       "      <td>2011-01-26</td>\n",
       "      <td>fWKvX83p0-ka4JS3dc6E5A</td>\n",
       "      <td>5</td>\n",
       "      <td>My wife took me here on my birthday for breakf...</td>\n",
       "      <td>review</td>\n",
       "      <td>rLtl8ZkDX5vH5nAx9C3q5Q</td>\n",
       "      <td>2</td>\n",
       "      <td>5</td>\n",
       "      <td>0</td>\n",
       "    </tr>\n",
       "    <tr>\n",
       "      <th>1</th>\n",
       "      <td>ZRJwVLyzEJq1VAihDhYiow</td>\n",
       "      <td>2011-07-27</td>\n",
       "      <td>IjZ33sJrzXqU-0X6U8NwyA</td>\n",
       "      <td>5</td>\n",
       "      <td>I have no idea why some people give bad review...</td>\n",
       "      <td>review</td>\n",
       "      <td>0a2KyEL0d3Yb1V6aivbIuQ</td>\n",
       "      <td>0</td>\n",
       "      <td>0</td>\n",
       "      <td>0</td>\n",
       "    </tr>\n",
       "    <tr>\n",
       "      <th>2</th>\n",
       "      <td>6oRAC4uyJCsJl1X0WZpVSA</td>\n",
       "      <td>2012-06-14</td>\n",
       "      <td>IESLBzqUCLdSzSqm0eCSxQ</td>\n",
       "      <td>4</td>\n",
       "      <td>love the gyro plate.]Rice is so good and I als...</td>\n",
       "      <td>review</td>\n",
       "      <td>0hT2KtfLiobPvh6cDC8JQg</td>\n",
       "      <td>0</td>\n",
       "      <td>1</td>\n",
       "      <td>0</td>\n",
       "    </tr>\n",
       "    <tr>\n",
       "      <th>3</th>\n",
       "      <td>_1QQZuf4zZOyFCvXc0o6Vg</td>\n",
       "      <td>2010-05-27</td>\n",
       "      <td>G-WvGaISbqqaMHlNnByodA</td>\n",
       "      <td>5</td>\n",
       "      <td>Rosie, Dakota, and I LOVE Chaparral Dog Park!!...</td>\n",
       "      <td>review</td>\n",
       "      <td>uZetl9T0NcROGOyFfughhg</td>\n",
       "      <td>1</td>\n",
       "      <td>2</td>\n",
       "      <td>0</td>\n",
       "    </tr>\n",
       "    <tr>\n",
       "      <th>4</th>\n",
       "      <td>6ozycU1RpktNG2-1BroVtw</td>\n",
       "      <td>2012-01-05</td>\n",
       "      <td>1uJFq2r5QfJG_6ExMRCaGw</td>\n",
       "      <td>5</td>\n",
       "      <td>General Manager Scott Petello is a good egg!!!...</td>\n",
       "      <td>review</td>\n",
       "      <td>vYmM4KTsC8ZfQBg-j5MWkw</td>\n",
       "      <td>0</td>\n",
       "      <td>0</td>\n",
       "      <td>0</td>\n",
       "    </tr>\n",
       "  </tbody>\n",
       "</table>\n",
       "</div>"
      ],
      "text/plain": [
       "              business_id        date  ... useful  funny\n",
       "0  9yKzy9PApeiPPOUJEtnvkg  2011-01-26  ...      5      0\n",
       "1  ZRJwVLyzEJq1VAihDhYiow  2011-07-27  ...      0      0\n",
       "2  6oRAC4uyJCsJl1X0WZpVSA  2012-06-14  ...      1      0\n",
       "3  _1QQZuf4zZOyFCvXc0o6Vg  2010-05-27  ...      2      0\n",
       "4  6ozycU1RpktNG2-1BroVtw  2012-01-05  ...      0      0\n",
       "\n",
       "[5 rows x 10 columns]"
      ]
     },
     "execution_count": 12,
     "metadata": {
      "tags": []
     },
     "output_type": "execute_result"
    }
   ],
   "source": [
    "data.head()"
   ]
  },
  {
   "cell_type": "code",
   "execution_count": 13,
   "metadata": {
    "colab": {
     "base_uri": "https://localhost:8080/",
     "height": 1000
    },
    "colab_type": "code",
    "executionInfo": {
     "elapsed": 919,
     "status": "ok",
     "timestamp": 1571672079906,
     "user": {
      "displayName": "Rakesh Nimma",
      "photoUrl": "",
      "userId": "14005108656575011618"
     },
     "user_tz": -330
    },
    "id": "L_j8qnFiMSXg",
    "outputId": "ccbb63be-7cc9-43e0-93c0-3532d039f151"
   },
   "outputs": [
    {
     "data": {
      "text/html": [
       "<div>\n",
       "<style scoped>\n",
       "    .dataframe tbody tr th:only-of-type {\n",
       "        vertical-align: middle;\n",
       "    }\n",
       "\n",
       "    .dataframe tbody tr th {\n",
       "        vertical-align: top;\n",
       "    }\n",
       "\n",
       "    .dataframe thead th {\n",
       "        text-align: right;\n",
       "    }\n",
       "</style>\n",
       "<table border=\"1\" class=\"dataframe\">\n",
       "  <thead>\n",
       "    <tr style=\"text-align: right;\">\n",
       "      <th></th>\n",
       "      <th>text</th>\n",
       "      <th>stars</th>\n",
       "      <th>cool</th>\n",
       "      <th>useful</th>\n",
       "      <th>funny</th>\n",
       "    </tr>\n",
       "  </thead>\n",
       "  <tbody>\n",
       "    <tr>\n",
       "      <th>0</th>\n",
       "      <td>My wife took me here on my birthday for breakf...</td>\n",
       "      <td>5</td>\n",
       "      <td>2</td>\n",
       "      <td>5</td>\n",
       "      <td>0</td>\n",
       "    </tr>\n",
       "    <tr>\n",
       "      <th>1</th>\n",
       "      <td>I have no idea why some people give bad review...</td>\n",
       "      <td>5</td>\n",
       "      <td>0</td>\n",
       "      <td>0</td>\n",
       "      <td>0</td>\n",
       "    </tr>\n",
       "    <tr>\n",
       "      <th>2</th>\n",
       "      <td>love the gyro plate.]Rice is so good and I als...</td>\n",
       "      <td>4</td>\n",
       "      <td>0</td>\n",
       "      <td>1</td>\n",
       "      <td>0</td>\n",
       "    </tr>\n",
       "    <tr>\n",
       "      <th>3</th>\n",
       "      <td>Rosie, Dakota, and I LOVE Chaparral Dog Park!!...</td>\n",
       "      <td>5</td>\n",
       "      <td>1</td>\n",
       "      <td>2</td>\n",
       "      <td>0</td>\n",
       "    </tr>\n",
       "    <tr>\n",
       "      <th>4</th>\n",
       "      <td>General Manager Scott Petello is a good egg!!!...</td>\n",
       "      <td>5</td>\n",
       "      <td>0</td>\n",
       "      <td>0</td>\n",
       "      <td>0</td>\n",
       "    </tr>\n",
       "    <tr>\n",
       "      <th>5</th>\n",
       "      <td>Quiessence is, simply put, beautiful.][Full wi...</td>\n",
       "      <td>4</td>\n",
       "      <td>4</td>\n",
       "      <td>3</td>\n",
       "      <td>1</td>\n",
       "    </tr>\n",
       "    <tr>\n",
       "      <th>6</th>\n",
       "      <td>Drop what you're doing and drive here.]After I...</td>\n",
       "      <td>5</td>\n",
       "      <td>7</td>\n",
       "      <td>7</td>\n",
       "      <td>4</td>\n",
       "    </tr>\n",
       "    <tr>\n",
       "      <th>7</th>\n",
       "      <td>Luckily, I didn't have to travel far to make m...</td>\n",
       "      <td>4</td>\n",
       "      <td>0</td>\n",
       "      <td>1</td>\n",
       "      <td>0</td>\n",
       "    </tr>\n",
       "    <tr>\n",
       "      <th>8</th>\n",
       "      <td>Definitely come for Happy hour! Prices are ama...</td>\n",
       "      <td>4</td>\n",
       "      <td>0</td>\n",
       "      <td>0</td>\n",
       "      <td>0</td>\n",
       "    </tr>\n",
       "    <tr>\n",
       "      <th>9</th>\n",
       "      <td>Nobuo shows his unique talents with everything...</td>\n",
       "      <td>5</td>\n",
       "      <td>0</td>\n",
       "      <td>1</td>\n",
       "      <td>0</td>\n",
       "    </tr>\n",
       "    <tr>\n",
       "      <th>10</th>\n",
       "      <td>The oldish man who owns the store is as sweet ...</td>\n",
       "      <td>5</td>\n",
       "      <td>1</td>\n",
       "      <td>3</td>\n",
       "      <td>1</td>\n",
       "    </tr>\n",
       "    <tr>\n",
       "      <th>11</th>\n",
       "      <td>Wonderful Vietnamese sandwich shoppe.]Their ba...</td>\n",
       "      <td>5</td>\n",
       "      <td>1</td>\n",
       "      <td>1</td>\n",
       "      <td>0</td>\n",
       "    </tr>\n",
       "    <tr>\n",
       "      <th>12</th>\n",
       "      <td>They have a limited time thing going on right ...</td>\n",
       "      <td>5</td>\n",
       "      <td>1</td>\n",
       "      <td>2</td>\n",
       "      <td>0</td>\n",
       "    </tr>\n",
       "    <tr>\n",
       "      <th>13</th>\n",
       "      <td>Good tattoo shop.]Clean space, multiple artist...</td>\n",
       "      <td>4</td>\n",
       "      <td>1</td>\n",
       "      <td>2</td>\n",
       "      <td>0</td>\n",
       "    </tr>\n",
       "    <tr>\n",
       "      <th>14</th>\n",
       "      <td>I'm 2 weeks new to Phoenix.]I looked up Irish ...</td>\n",
       "      <td>4</td>\n",
       "      <td>1</td>\n",
       "      <td>1</td>\n",
       "      <td>0</td>\n",
       "    </tr>\n",
       "    <tr>\n",
       "      <th>15</th>\n",
       "      <td>Was it worth the 21$ for a salad and small piz...</td>\n",
       "      <td>2</td>\n",
       "      <td>0</td>\n",
       "      <td>2</td>\n",
       "      <td>0</td>\n",
       "    </tr>\n",
       "    <tr>\n",
       "      <th>16</th>\n",
       "      <td>We went here on a Saturday afternoon and this ...</td>\n",
       "      <td>3</td>\n",
       "      <td>3</td>\n",
       "      <td>4</td>\n",
       "      <td>2</td>\n",
       "    </tr>\n",
       "    <tr>\n",
       "      <th>17</th>\n",
       "      <td>okay this is the best place EVER! i grew up sh...</td>\n",
       "      <td>5</td>\n",
       "      <td>0</td>\n",
       "      <td>0</td>\n",
       "      <td>0</td>\n",
       "    </tr>\n",
       "    <tr>\n",
       "      <th>18</th>\n",
       "      <td>I met a friend for lunch yesterday.]\\r\\rLoved ...</td>\n",
       "      <td>3</td>\n",
       "      <td>5</td>\n",
       "      <td>6</td>\n",
       "      <td>4</td>\n",
       "    </tr>\n",
       "    <tr>\n",
       "      <th>19</th>\n",
       "      <td>They've gotten better and better for me in the...</td>\n",
       "      <td>4</td>\n",
       "      <td>1</td>\n",
       "      <td>1</td>\n",
       "      <td>1</td>\n",
       "    </tr>\n",
       "    <tr>\n",
       "      <th>20</th>\n",
       "      <td>DVAP....\\r\\rYou have to go at least once in yo...</td>\n",
       "      <td>3</td>\n",
       "      <td>2</td>\n",
       "      <td>4</td>\n",
       "      <td>1</td>\n",
       "    </tr>\n",
       "    <tr>\n",
       "      <th>21</th>\n",
       "      <td>This place shouldn't even be reviewed - becaus...</td>\n",
       "      <td>5</td>\n",
       "      <td>1</td>\n",
       "      <td>1</td>\n",
       "      <td>2</td>\n",
       "    </tr>\n",
       "    <tr>\n",
       "      <th>22</th>\n",
       "      <td>first time my friend and I went there...]it wa...</td>\n",
       "      <td>5</td>\n",
       "      <td>0</td>\n",
       "      <td>0</td>\n",
       "      <td>0</td>\n",
       "    </tr>\n",
       "    <tr>\n",
       "      <th>23</th>\n",
       "      <td>U can go there n check the car out.]If u wanna...</td>\n",
       "      <td>1</td>\n",
       "      <td>0</td>\n",
       "      <td>1</td>\n",
       "      <td>1</td>\n",
       "    </tr>\n",
       "    <tr>\n",
       "      <th>24</th>\n",
       "      <td>I love this place! I have been coming here for...</td>\n",
       "      <td>5</td>\n",
       "      <td>0</td>\n",
       "      <td>1</td>\n",
       "      <td>0</td>\n",
       "    </tr>\n",
       "    <tr>\n",
       "      <th>25</th>\n",
       "      <td>This place is great.][A nice little ole' fashi...</td>\n",
       "      <td>4</td>\n",
       "      <td>0</td>\n",
       "      <td>0</td>\n",
       "      <td>0</td>\n",
       "    </tr>\n",
       "    <tr>\n",
       "      <th>26</th>\n",
       "      <td>I love love LOVE this place.]My boss (who is i...</td>\n",
       "      <td>5</td>\n",
       "      <td>0</td>\n",
       "      <td>0</td>\n",
       "      <td>0</td>\n",
       "    </tr>\n",
       "    <tr>\n",
       "      <th>27</th>\n",
       "      <td>Not that my review will mean much given the mo...</td>\n",
       "      <td>4</td>\n",
       "      <td>2</td>\n",
       "      <td>4</td>\n",
       "      <td>1</td>\n",
       "    </tr>\n",
       "    <tr>\n",
       "      <th>28</th>\n",
       "      <td>Came here for breakfast yesterday, it had been...</td>\n",
       "      <td>4</td>\n",
       "      <td>1</td>\n",
       "      <td>1</td>\n",
       "      <td>1</td>\n",
       "    </tr>\n",
       "    <tr>\n",
       "      <th>29</th>\n",
       "      <td>Always reliably good.][Great beer selection as...</td>\n",
       "      <td>4</td>\n",
       "      <td>0</td>\n",
       "      <td>1</td>\n",
       "      <td>0</td>\n",
       "    </tr>\n",
       "    <tr>\n",
       "      <th>...</th>\n",
       "      <td>...</td>\n",
       "      <td>...</td>\n",
       "      <td>...</td>\n",
       "      <td>...</td>\n",
       "      <td>...</td>\n",
       "    </tr>\n",
       "    <tr>\n",
       "      <th>9970</th>\n",
       "      <td>This place is super cute lunch joint.][I had t...</td>\n",
       "      <td>5</td>\n",
       "      <td>0</td>\n",
       "      <td>0</td>\n",
       "      <td>0</td>\n",
       "    </tr>\n",
       "    <tr>\n",
       "      <th>9971</th>\n",
       "      <td>The staff is great, the food is great, even th...</td>\n",
       "      <td>5</td>\n",
       "      <td>1</td>\n",
       "      <td>2</td>\n",
       "      <td>1</td>\n",
       "    </tr>\n",
       "    <tr>\n",
       "      <th>9972</th>\n",
       "      <td>Yay, even though I miss living in Coronado I a...</td>\n",
       "      <td>4</td>\n",
       "      <td>0</td>\n",
       "      <td>0</td>\n",
       "      <td>0</td>\n",
       "    </tr>\n",
       "    <tr>\n",
       "      <th>9973</th>\n",
       "      <td>Wow!  Went on a Sunday around 11am - busy but ...</td>\n",
       "      <td>5</td>\n",
       "      <td>0</td>\n",
       "      <td>0</td>\n",
       "      <td>0</td>\n",
       "    </tr>\n",
       "    <tr>\n",
       "      <th>9974</th>\n",
       "      <td>If Cowboy Ciao is the best restaurant in Scott...</td>\n",
       "      <td>2</td>\n",
       "      <td>0</td>\n",
       "      <td>0</td>\n",
       "      <td>0</td>\n",
       "    </tr>\n",
       "    <tr>\n",
       "      <th>9975</th>\n",
       "      <td>When I lived in Phoenix, I was a regular at Fe...</td>\n",
       "      <td>5</td>\n",
       "      <td>1</td>\n",
       "      <td>1</td>\n",
       "      <td>0</td>\n",
       "    </tr>\n",
       "    <tr>\n",
       "      <th>9976</th>\n",
       "      <td>I was looking for chile rellenos and this plac...</td>\n",
       "      <td>3</td>\n",
       "      <td>0</td>\n",
       "      <td>0</td>\n",
       "      <td>0</td>\n",
       "    </tr>\n",
       "    <tr>\n",
       "      <th>9977</th>\n",
       "      <td>Why did I wait so long to try this neighborhoo...</td>\n",
       "      <td>5</td>\n",
       "      <td>3</td>\n",
       "      <td>6</td>\n",
       "      <td>3</td>\n",
       "    </tr>\n",
       "    <tr>\n",
       "      <th>9978</th>\n",
       "      <td>This is the place for a fabulos breakfast!! I ...</td>\n",
       "      <td>5</td>\n",
       "      <td>0</td>\n",
       "      <td>1</td>\n",
       "      <td>0</td>\n",
       "    </tr>\n",
       "    <tr>\n",
       "      <th>9979</th>\n",
       "      <td>Highly recommend.]This is my second time here ...</td>\n",
       "      <td>5</td>\n",
       "      <td>2</td>\n",
       "      <td>2</td>\n",
       "      <td>1</td>\n",
       "    </tr>\n",
       "    <tr>\n",
       "      <th>9980</th>\n",
       "      <td>5 stars for the great $5 happy hour specials.]...</td>\n",
       "      <td>5</td>\n",
       "      <td>6</td>\n",
       "      <td>6</td>\n",
       "      <td>4</td>\n",
       "    </tr>\n",
       "    <tr>\n",
       "      <th>9981</th>\n",
       "      <td>We brought the entire family to Giuseppe's las...</td>\n",
       "      <td>5</td>\n",
       "      <td>10</td>\n",
       "      <td>9</td>\n",
       "      <td>5</td>\n",
       "    </tr>\n",
       "    <tr>\n",
       "      <th>9982</th>\n",
       "      <td>Best corned beef sandwich I've had anywhere at...</td>\n",
       "      <td>4</td>\n",
       "      <td>0</td>\n",
       "      <td>0</td>\n",
       "      <td>0</td>\n",
       "    </tr>\n",
       "    <tr>\n",
       "      <th>9983</th>\n",
       "      <td>3.5 stars.]\\r\\rWe decided to check this place ...</td>\n",
       "      <td>3</td>\n",
       "      <td>1</td>\n",
       "      <td>4</td>\n",
       "      <td>1</td>\n",
       "    </tr>\n",
       "    <tr>\n",
       "      <th>9984</th>\n",
       "      <td>Went last night to Whore Foods to get basics t...</td>\n",
       "      <td>1</td>\n",
       "      <td>0</td>\n",
       "      <td>1</td>\n",
       "      <td>2</td>\n",
       "    </tr>\n",
       "    <tr>\n",
       "      <th>9985</th>\n",
       "      <td>Awesome food! Little pricey but delicious.]Lov...</td>\n",
       "      <td>4</td>\n",
       "      <td>0</td>\n",
       "      <td>0</td>\n",
       "      <td>0</td>\n",
       "    </tr>\n",
       "    <tr>\n",
       "      <th>9986</th>\n",
       "      <td>I came here in December and look forward to my...</td>\n",
       "      <td>4</td>\n",
       "      <td>0</td>\n",
       "      <td>0</td>\n",
       "      <td>0</td>\n",
       "    </tr>\n",
       "    <tr>\n",
       "      <th>9987</th>\n",
       "      <td>The food is delicious.][The service:  discrimi...</td>\n",
       "      <td>1</td>\n",
       "      <td>0</td>\n",
       "      <td>0</td>\n",
       "      <td>0</td>\n",
       "    </tr>\n",
       "    <tr>\n",
       "      <th>9988</th>\n",
       "      <td>For our first time we had a great time! Our se...</td>\n",
       "      <td>4</td>\n",
       "      <td>0</td>\n",
       "      <td>2</td>\n",
       "      <td>0</td>\n",
       "    </tr>\n",
       "    <tr>\n",
       "      <th>9989</th>\n",
       "      <td>Great food and service! Country food at its best!</td>\n",
       "      <td>5</td>\n",
       "      <td>0</td>\n",
       "      <td>1</td>\n",
       "      <td>0</td>\n",
       "    </tr>\n",
       "    <tr>\n",
       "      <th>9990</th>\n",
       "      <td>Yes I do rock the hipster joints.][I dig this ...</td>\n",
       "      <td>5</td>\n",
       "      <td>1</td>\n",
       "      <td>1</td>\n",
       "      <td>1</td>\n",
       "    </tr>\n",
       "    <tr>\n",
       "      <th>9991</th>\n",
       "      <td>Only 4 stars? \\r\\r(A few notes: The folks that...</td>\n",
       "      <td>5</td>\n",
       "      <td>1</td>\n",
       "      <td>1</td>\n",
       "      <td>0</td>\n",
       "    </tr>\n",
       "    <tr>\n",
       "      <th>9992</th>\n",
       "      <td>I'm not normally one to jump at reviewing a ch...</td>\n",
       "      <td>5</td>\n",
       "      <td>2</td>\n",
       "      <td>3</td>\n",
       "      <td>2</td>\n",
       "    </tr>\n",
       "    <tr>\n",
       "      <th>9993</th>\n",
       "      <td>Judging by some of the reviews, maybe I went o...</td>\n",
       "      <td>4</td>\n",
       "      <td>1</td>\n",
       "      <td>1</td>\n",
       "      <td>0</td>\n",
       "    </tr>\n",
       "    <tr>\n",
       "      <th>9994</th>\n",
       "      <td>Let's see...what is there NOT to like about Su...</td>\n",
       "      <td>5</td>\n",
       "      <td>1</td>\n",
       "      <td>2</td>\n",
       "      <td>1</td>\n",
       "    </tr>\n",
       "    <tr>\n",
       "      <th>9995</th>\n",
       "      <td>First visit...Had lunch here today - used my G...</td>\n",
       "      <td>3</td>\n",
       "      <td>1</td>\n",
       "      <td>2</td>\n",
       "      <td>0</td>\n",
       "    </tr>\n",
       "    <tr>\n",
       "      <th>9996</th>\n",
       "      <td>Should be called house of deliciousness!\\r\\rI ...</td>\n",
       "      <td>4</td>\n",
       "      <td>0</td>\n",
       "      <td>0</td>\n",
       "      <td>0</td>\n",
       "    </tr>\n",
       "    <tr>\n",
       "      <th>9997</th>\n",
       "      <td>I recently visited Olive and Ivy for business ...</td>\n",
       "      <td>4</td>\n",
       "      <td>0</td>\n",
       "      <td>0</td>\n",
       "      <td>0</td>\n",
       "    </tr>\n",
       "    <tr>\n",
       "      <th>9998</th>\n",
       "      <td>My nephew just moved to Scottsdale recently so...</td>\n",
       "      <td>2</td>\n",
       "      <td>0</td>\n",
       "      <td>0</td>\n",
       "      <td>0</td>\n",
       "    </tr>\n",
       "    <tr>\n",
       "      <th>9999</th>\n",
       "      <td>4-5 locations..]all 4.5 star average..]I think...</td>\n",
       "      <td>5</td>\n",
       "      <td>0</td>\n",
       "      <td>0</td>\n",
       "      <td>0</td>\n",
       "    </tr>\n",
       "  </tbody>\n",
       "</table>\n",
       "<p>10000 rows × 5 columns</p>\n",
       "</div>"
      ],
      "text/plain": [
       "                                                   text  stars  ...  useful  funny\n",
       "0     My wife took me here on my birthday for breakf...      5  ...       5      0\n",
       "1     I have no idea why some people give bad review...      5  ...       0      0\n",
       "2     love the gyro plate.]Rice is so good and I als...      4  ...       1      0\n",
       "3     Rosie, Dakota, and I LOVE Chaparral Dog Park!!...      5  ...       2      0\n",
       "4     General Manager Scott Petello is a good egg!!!...      5  ...       0      0\n",
       "5     Quiessence is, simply put, beautiful.][Full wi...      4  ...       3      1\n",
       "6     Drop what you're doing and drive here.]After I...      5  ...       7      4\n",
       "7     Luckily, I didn't have to travel far to make m...      4  ...       1      0\n",
       "8     Definitely come for Happy hour! Prices are ama...      4  ...       0      0\n",
       "9     Nobuo shows his unique talents with everything...      5  ...       1      0\n",
       "10    The oldish man who owns the store is as sweet ...      5  ...       3      1\n",
       "11    Wonderful Vietnamese sandwich shoppe.]Their ba...      5  ...       1      0\n",
       "12    They have a limited time thing going on right ...      5  ...       2      0\n",
       "13    Good tattoo shop.]Clean space, multiple artist...      4  ...       2      0\n",
       "14    I'm 2 weeks new to Phoenix.]I looked up Irish ...      4  ...       1      0\n",
       "15    Was it worth the 21$ for a salad and small piz...      2  ...       2      0\n",
       "16    We went here on a Saturday afternoon and this ...      3  ...       4      2\n",
       "17    okay this is the best place EVER! i grew up sh...      5  ...       0      0\n",
       "18    I met a friend for lunch yesterday.]\\r\\rLoved ...      3  ...       6      4\n",
       "19    They've gotten better and better for me in the...      4  ...       1      1\n",
       "20    DVAP....\\r\\rYou have to go at least once in yo...      3  ...       4      1\n",
       "21    This place shouldn't even be reviewed - becaus...      5  ...       1      2\n",
       "22    first time my friend and I went there...]it wa...      5  ...       0      0\n",
       "23    U can go there n check the car out.]If u wanna...      1  ...       1      1\n",
       "24    I love this place! I have been coming here for...      5  ...       1      0\n",
       "25    This place is great.][A nice little ole' fashi...      4  ...       0      0\n",
       "26    I love love LOVE this place.]My boss (who is i...      5  ...       0      0\n",
       "27    Not that my review will mean much given the mo...      4  ...       4      1\n",
       "28    Came here for breakfast yesterday, it had been...      4  ...       1      1\n",
       "29    Always reliably good.][Great beer selection as...      4  ...       1      0\n",
       "...                                                 ...    ...  ...     ...    ...\n",
       "9970  This place is super cute lunch joint.][I had t...      5  ...       0      0\n",
       "9971  The staff is great, the food is great, even th...      5  ...       2      1\n",
       "9972  Yay, even though I miss living in Coronado I a...      4  ...       0      0\n",
       "9973  Wow!  Went on a Sunday around 11am - busy but ...      5  ...       0      0\n",
       "9974  If Cowboy Ciao is the best restaurant in Scott...      2  ...       0      0\n",
       "9975  When I lived in Phoenix, I was a regular at Fe...      5  ...       1      0\n",
       "9976  I was looking for chile rellenos and this plac...      3  ...       0      0\n",
       "9977  Why did I wait so long to try this neighborhoo...      5  ...       6      3\n",
       "9978  This is the place for a fabulos breakfast!! I ...      5  ...       1      0\n",
       "9979  Highly recommend.]This is my second time here ...      5  ...       2      1\n",
       "9980  5 stars for the great $5 happy hour specials.]...      5  ...       6      4\n",
       "9981  We brought the entire family to Giuseppe's las...      5  ...       9      5\n",
       "9982  Best corned beef sandwich I've had anywhere at...      4  ...       0      0\n",
       "9983  3.5 stars.]\\r\\rWe decided to check this place ...      3  ...       4      1\n",
       "9984  Went last night to Whore Foods to get basics t...      1  ...       1      2\n",
       "9985  Awesome food! Little pricey but delicious.]Lov...      4  ...       0      0\n",
       "9986  I came here in December and look forward to my...      4  ...       0      0\n",
       "9987  The food is delicious.][The service:  discrimi...      1  ...       0      0\n",
       "9988  For our first time we had a great time! Our se...      4  ...       2      0\n",
       "9989  Great food and service! Country food at its best!      5  ...       1      0\n",
       "9990  Yes I do rock the hipster joints.][I dig this ...      5  ...       1      1\n",
       "9991  Only 4 stars? \\r\\r(A few notes: The folks that...      5  ...       1      0\n",
       "9992  I'm not normally one to jump at reviewing a ch...      5  ...       3      2\n",
       "9993  Judging by some of the reviews, maybe I went o...      4  ...       1      0\n",
       "9994  Let's see...what is there NOT to like about Su...      5  ...       2      1\n",
       "9995  First visit...Had lunch here today - used my G...      3  ...       2      0\n",
       "9996  Should be called house of deliciousness!\\r\\rI ...      4  ...       0      0\n",
       "9997  I recently visited Olive and Ivy for business ...      4  ...       0      0\n",
       "9998  My nephew just moved to Scottsdale recently so...      2  ...       0      0\n",
       "9999  4-5 locations..]all 4.5 star average..]I think...      5  ...       0      0\n",
       "\n",
       "[10000 rows x 5 columns]"
      ]
     },
     "execution_count": 13,
     "metadata": {
      "tags": []
     },
     "output_type": "execute_result"
    }
   ],
   "source": [
    "data.loc[:,['text','stars','cool','useful','funny']]"
   ]
  },
  {
   "cell_type": "code",
   "execution_count": 14,
   "metadata": {
    "colab": {
     "base_uri": "https://localhost:8080/",
     "height": 51
    },
    "colab_type": "code",
    "executionInfo": {
     "elapsed": 1069,
     "status": "ok",
     "timestamp": 1571672081073,
     "user": {
      "displayName": "Rakesh Nimma",
      "photoUrl": "",
      "userId": "14005108656575011618"
     },
     "user_tz": -330
    },
    "id": "w30VgIQPMSag",
    "outputId": "4f6a08e5-f138-4482-c7bc-3e3f263966de"
   },
   "outputs": [
    {
     "data": {
      "text/plain": [
       "text    Luckily, I didn't have to travel far to make m...\n",
       "Name: 7, dtype: object"
      ]
     },
     "execution_count": 14,
     "metadata": {
      "tags": []
     },
     "output_type": "execute_result"
    }
   ],
   "source": [
    "data.loc[7,['text']]"
   ]
  },
  {
   "cell_type": "code",
   "execution_count": 0,
   "metadata": {
    "colab": {},
    "colab_type": "code",
    "id": "BoCTcOlfR0c6"
   },
   "outputs": [],
   "source": [
    "rev_text = data['text'].to_list()"
   ]
  },
  {
   "cell_type": "code",
   "execution_count": 16,
   "metadata": {
    "colab": {
     "base_uri": "https://localhost:8080/",
     "height": 54
    },
    "colab_type": "code",
    "executionInfo": {
     "elapsed": 720,
     "status": "ok",
     "timestamp": 1571672082499,
     "user": {
      "displayName": "Rakesh Nimma",
      "photoUrl": "",
      "userId": "14005108656575011618"
     },
     "user_tz": -330
    },
    "id": "rozWTqnpR7RJ",
    "outputId": "a614f715-f9ec-4f24-c8bb-358db04cfdfd"
   },
   "outputs": [
    {
     "data": {
      "text/plain": [
       "'My wife took me here on my birthday for breakfast and it was excellent.][The weather was perfect which made sitting outside overlooking their grounds an absolute pleasure.][Our waitress was excellent and our food arrived quickly on the semi-busy Saturday morning.][It looked like the place fills up pretty quickly so the earlier you get here the better.\\r\\rDo yourself a favor and get their Bloody Mary.][It was phenomenal and simply the best I\\'ve ever had.][I\\'m pretty sure they only use ingredients from their garden and blend them fresh when you order it.][It was amazing.\\r\\rWhile EVERYTHING on the menu looks excellent, I had the white truffle scrambled eggs vegetable skillet and it was tasty and delicious.][It came with 2 pieces of their griddled bread with was amazing and it absolutely made the meal complete.][It was the best \"toast\" I\\'ve ever had.\\r\\rAnyway, I can\\'t wait to go back!'"
      ]
     },
     "execution_count": 16,
     "metadata": {
      "tags": []
     },
     "output_type": "execute_result"
    }
   ],
   "source": [
    "rev_text[0]"
   ]
  },
  {
   "cell_type": "code",
   "execution_count": 17,
   "metadata": {
    "colab": {
     "base_uri": "https://localhost:8080/",
     "height": 136
    },
    "colab_type": "code",
    "executionInfo": {
     "elapsed": 3038,
     "status": "ok",
     "timestamp": 1571672089494,
     "user": {
      "displayName": "Rakesh Nimma",
      "photoUrl": "",
      "userId": "14005108656575011618"
     },
     "user_tz": -330
    },
    "id": "OPrbKYqKW6dM",
    "outputId": "6266553f-709e-45bd-9a42-1fc37e1002a0"
   },
   "outputs": [
    {
     "name": "stdout",
     "output_type": "stream",
     "text": [
      "[nltk_data] Downloading package punkt to /root/nltk_data...\n",
      "[nltk_data]   Unzipping tokenizers/punkt.zip.\n",
      "[nltk_data] Downloading package stopwords to /root/nltk_data...\n",
      "[nltk_data]   Unzipping corpora/stopwords.zip.\n",
      "[nltk_data] Downloading package wordnet to /root/nltk_data...\n",
      "[nltk_data]   Unzipping corpora/wordnet.zip.\n"
     ]
    },
    {
     "data": {
      "text/plain": [
       "True"
      ]
     },
     "execution_count": 17,
     "metadata": {
      "tags": []
     },
     "output_type": "execute_result"
    }
   ],
   "source": [
    "import nltk\n",
    "nltk.download('punkt')\n",
    "nltk.download('stopwords')\n",
    "nltk.download('wordnet')"
   ]
  },
  {
   "cell_type": "code",
   "execution_count": 0,
   "metadata": {
    "colab": {},
    "colab_type": "code",
    "id": "scYWAzaSSYui"
   },
   "outputs": [],
   "source": [
    "from nltk.corpus import stopwords \n",
    "from nltk.tokenize import sent_tokenize, word_tokenize\n",
    "from nltk.corpus import stopwords\n",
    "import string\n",
    "puntucation = string.punctuation\n",
    "stop_words = stopwords.words('english')\n",
    "import re\n",
    "from nltk.stem import WordNetLemmatizer \n",
    "lemmatizer = WordNetLemmatizer() "
   ]
  },
  {
   "cell_type": "code",
   "execution_count": 0,
   "metadata": {
    "colab": {},
    "colab_type": "code",
    "id": "-esiqLtAVPXu"
   },
   "outputs": [],
   "source": [
    "def clean_reviews_part_1(text):\n",
    "    words = word_tokenize(text)\n",
    "    words = [word.lower() for word in words] \n",
    "    words = [word for word in words if word not in puntucation]    \n",
    "    return (' ').join(words)"
   ]
  },
  {
   "cell_type": "code",
   "execution_count": 0,
   "metadata": {
    "colab": {},
    "colab_type": "code",
    "id": "8Fx2c4ThYFIn"
   },
   "outputs": [],
   "source": []
  },
  {
   "cell_type": "code",
   "execution_count": 0,
   "metadata": {
    "colab": {},
    "colab_type": "code",
    "id": "C-qKeO-GWsfy"
   },
   "outputs": [],
   "source": []
  },
  {
   "cell_type": "code",
   "execution_count": 20,
   "metadata": {
    "colab": {
     "base_uri": "https://localhost:8080/",
     "height": 54
    },
    "colab_type": "code",
    "executionInfo": {
     "elapsed": 1162,
     "status": "ok",
     "timestamp": 1571672099010,
     "user": {
      "displayName": "Rakesh Nimma",
      "photoUrl": "",
      "userId": "14005108656575011618"
     },
     "user_tz": -330
    },
    "id": "mk3JieboWiAv",
    "outputId": "1091e145-0a51-4ddd-f56e-acea0b6fb0b8"
   },
   "outputs": [
    {
     "data": {
      "text/plain": [
       "\"my wife took me here on my birthday for breakfast and it was excellent the weather was perfect which made sitting outside overlooking their grounds an absolute pleasure our waitress was excellent and our food arrived quickly on the semi-busy saturday morning it looked like the place fills up pretty quickly so the earlier you get here the better do yourself a favor and get their bloody mary it was phenomenal and simply the best i 've ever had i 'm pretty sure they only use ingredients from their garden and blend them fresh when you order it it was amazing while everything on the menu looks excellent i had the white truffle scrambled eggs vegetable skillet and it was tasty and delicious it came with 2 pieces of their griddled bread with was amazing and it absolutely made the meal complete it was the best toast i 've ever had anyway i ca n't wait to go back\""
      ]
     },
     "execution_count": 20,
     "metadata": {
      "tags": []
     },
     "output_type": "execute_result"
    }
   ],
   "source": [
    "clean_reviews_part_1(\"My wife took me here on my birthday for breakfast and it was excellent.][The weather was perfect which made sitting outside overlooking their grounds an absolute pleasure.][Our waitress was excellent and our food arrived quickly on the semi-busy Saturday morning.][It looked like the place fills up pretty quickly so the earlier you get here the better.\\r\\rDo yourself a favor and get their Bloody Mary.][It was phenomenal and simply the best I\\'ve ever had.][I\\'m pretty sure they only use ingredients from their garden and blend them fresh when you order it.][It was amazing.\\r\\rWhile EVERYTHING on the menu looks excellent, I had the white truffle scrambled eggs vegetable skillet and it was tasty and delicious.][It came with 2 pieces of their griddled bread with was amazing and it absolutely made the meal complete.][It was the best toast I\\'ve ever had.\\r\\rAnyway, I can\\'t wait to go back!\")"
   ]
  },
  {
   "cell_type": "code",
   "execution_count": 0,
   "metadata": {
    "colab": {},
    "colab_type": "code",
    "id": "OSlZ_8PwWl7b"
   },
   "outputs": [],
   "source": [
    "def clean_reviews_part_2(text):\n",
    "    text = re.sub('\\'ve','',text)\n",
    "    text = re.sub('ca n\\'t','cannot',text)\n",
    "    text = re.sub('\\'m','am',text)\n",
    "    words = word_tokenize(text)\n",
    "    return (' ').join(words)"
   ]
  },
  {
   "cell_type": "code",
   "execution_count": 22,
   "metadata": {
    "colab": {
     "base_uri": "https://localhost:8080/",
     "height": 54
    },
    "colab_type": "code",
    "executionInfo": {
     "elapsed": 962,
     "status": "ok",
     "timestamp": 1571672099672,
     "user": {
      "displayName": "Rakesh Nimma",
      "photoUrl": "",
      "userId": "14005108656575011618"
     },
     "user_tz": -330
    },
    "id": "z8pm-rwObh9j",
    "outputId": "28d302b0-fc24-4e8a-989a-5ec672d237a1"
   },
   "outputs": [
    {
     "data": {
      "text/plain": [
       "'my wife took me here on my birthday for breakfast and it was excellent the weather was perfect which made sitting outside overlooking their grounds an absolute pleasure our waitress was excellent and our food arrived quickly on the semi-busy saturday morning it looked like the place fills up pretty quickly so the earlier you get here the better do yourself a favor and get their bloody mary it was phenomenal and simply the best i ever had i am pretty sure they only use ingredients from their garden and blend them fresh when you order it it was amazing while everything on the menu looks excellent i had the white truffle scrambled eggs vegetable skillet and it was tasty and delicious it came with 2 pieces of their griddled bread with was amazing and it absolutely made the meal complete it was the best toast i ever had anyway i can not wait to go back'"
      ]
     },
     "execution_count": 22,
     "metadata": {
      "tags": []
     },
     "output_type": "execute_result"
    }
   ],
   "source": [
    "clean_reviews_part_2(\"my wife took me here on my birthday for breakfast and it was excellent the weather was perfect which made sitting outside overlooking their grounds an absolute pleasure our waitress was excellent and our food arrived quickly on the semi-busy saturday morning it looked like the place fills up pretty quickly so the earlier you get here the better do yourself a favor and get their bloody mary it was phenomenal and simply the best i 've ever had i 'm pretty sure they only use ingredients from their garden and blend them fresh when you order it it was amazing while everything on the menu looks excellent i had the white truffle scrambled eggs vegetable skillet and it was tasty and delicious it came with 2 pieces of their griddled bread with was amazing and it absolutely made the meal complete it was the best toast i 've ever had anyway i ca n't wait to go back\")"
   ]
  },
  {
   "cell_type": "code",
   "execution_count": 0,
   "metadata": {
    "colab": {},
    "colab_type": "code",
    "id": "hqCorXqibxNg"
   },
   "outputs": [],
   "source": [
    "data['cleaned_review'] = data['text'].apply(clean_reviews_part_1)\n",
    "data['cleaned_review'] = data['cleaned_review'].apply(clean_reviews_part_2)"
   ]
  },
  {
   "cell_type": "code",
   "execution_count": 24,
   "metadata": {
    "colab": {
     "base_uri": "https://localhost:8080/",
     "height": 54
    },
    "colab_type": "code",
    "executionInfo": {
     "elapsed": 19251,
     "status": "ok",
     "timestamp": 1571672118800,
     "user": {
      "displayName": "Rakesh Nimma",
      "photoUrl": "",
      "userId": "14005108656575011618"
     },
     "user_tz": -330
    },
    "id": "OViH6AYxgvpY",
    "outputId": "0ea434dd-5da2-4a0c-b4d2-b833b63aae7f"
   },
   "outputs": [
    {
     "data": {
      "text/plain": [
       "\"my wife took me here on my birthday for breakfast and it was excellent the weather was perfect which made sitting outside overlooking their grounds an absolute pleasure our waitress was excellent and our food arrived quickly on the semi-busy saturday morning it looked like the place fills up pretty quickly so the earlier you get here the better do yourself a favor and get their bloody mary it was phenomenal and simply the best i ever had i am pretty sure they only use ingredients from their garden and blend them fresh when you order it it was amazing while everything on the menu looks excellent i had the white truffle scrambled eggs vegetable skillet and it was tasty and delicious it came with 2 pieces of their griddled bread with was amazing and it absolutely made the meal complete it was the best `` toast '' i ever had anyway i can not wait to go back\""
      ]
     },
     "execution_count": 24,
     "metadata": {
      "tags": []
     },
     "output_type": "execute_result"
    }
   ],
   "source": [
    "data['cleaned_review'][0]"
   ]
  },
  {
   "cell_type": "code",
   "execution_count": 25,
   "metadata": {
    "colab": {
     "base_uri": "https://localhost:8080/",
     "height": 54
    },
    "colab_type": "code",
    "executionInfo": {
     "elapsed": 18716,
     "status": "ok",
     "timestamp": 1571672118801,
     "user": {
      "displayName": "Rakesh Nimma",
      "photoUrl": "",
      "userId": "14005108656575011618"
     },
     "user_tz": -330
    },
    "id": "ReNHsmJshFzr",
    "outputId": "2d739074-66cf-4a9c-9d6e-35153d05e4bf"
   },
   "outputs": [
    {
     "data": {
      "text/plain": [
       "\"rosie dakota and i love chaparral dog park it 's very convenient and surrounded by a lot of paths a desert xeriscape baseball fields ballparks and a lake with ducks the scottsdale park and rec dept does a wonderful job of keeping the park clean and shaded you can find trash cans and poopy-pick up mitts located all over the park and paths the fenced in area is huge to let the dogs run play and sniff\""
      ]
     },
     "execution_count": 25,
     "metadata": {
      "tags": []
     },
     "output_type": "execute_result"
    }
   ],
   "source": [
    "data['cleaned_review'][3]"
   ]
  },
  {
   "cell_type": "code",
   "execution_count": 26,
   "metadata": {
    "colab": {
     "base_uri": "https://localhost:8080/",
     "height": 54
    },
    "colab_type": "code",
    "executionInfo": {
     "elapsed": 18048,
     "status": "ok",
     "timestamp": 1571672118804,
     "user": {
      "displayName": "Rakesh Nimma",
      "photoUrl": "",
      "userId": "14005108656575011618"
     },
     "user_tz": -330
    },
    "id": "iol3Ieu9hWwk",
    "outputId": "4821cd76-5791-4c9b-9c5c-9555d50e80d9"
   },
   "outputs": [
    {
     "data": {
      "text/plain": [
       "\"quiessence is simply put beautiful full windows and earthy wooden walls give a feeling of warmth inside this restaurant perched in the middle of a farm the restaurant seemed fairly full even on a tuesday evening we had secured reservations just a couple days before my friend and i had sampled sandwiches at the farm kitchen earlier that week and were impressed enough to want to eat at the restaurant the crisp fresh veggies did n't disappoint we ordered the salad with orange and grapefruit slices and the crudites to start both were very good i did n't even know how much i liked raw radishes and turnips until i tried them with their pesto and aioli sauces for entrees i ordered the lamb and my friend ordered the pork shoulder service started out very good but trailed off quickly waiting for our food took a very long time a couple seated after us received and finished their entrees before we received our 's and no one bothered to explain the situation until the maitre 'd apologized almost 45 minutes later apparently the chef was unhappy with the sauce on my entree so he started anew this is n't really a problem but they should have communicated this to us earlier for our troubles they comped me the glass of wine i ordered but they forgot to bring out with my entree as i had requested also they did n't offer us bread but i will echo the lady who whispered this to us on her way out ask for the bread we received warm foccacia apple walnut and pomegranate slices of wonder with honey and butter . yum the entrees were both solid but did n't quite live up to the innovation and freshness of the vegetables my lamb 's sauce was delicious but the meat was tough maybe the vegetarian entrees are the way to go but our dessert the gingerbread pear cake was yet another winner if the entrees were tad more inspired or the service were n't so spotty this place definitely would have warranted five stars if i return i 'd like to try the 75 tasting menu our bill came out to about 100 for two people including tip no drinks\""
      ]
     },
     "execution_count": 26,
     "metadata": {
      "tags": []
     },
     "output_type": "execute_result"
    }
   ],
   "source": [
    "data['cleaned_review'][5]"
   ]
  },
  {
   "cell_type": "code",
   "execution_count": 0,
   "metadata": {
    "colab": {},
    "colab_type": "code",
    "id": "TeHgYpdDhtsd"
   },
   "outputs": [],
   "source": [
    "### As we can we see still text is not cleaned properly"
   ]
  },
  {
   "cell_type": "code",
   "execution_count": 0,
   "metadata": {
    "colab": {},
    "colab_type": "code",
    "id": "0gx_7Kvmi-Dz"
   },
   "outputs": [],
   "source": [
    "def clean_reviews_part_3(text):\n",
    "  text = re.sub('\\`+',' ',text)\n",
    "  text = re.sub('\\'+', ' ',text)\n",
    "  text = re.sub('\\.+|\\-+|\\:+|\\/+|\\*+|\\~|\\,|\\_+',' ',text)\n",
    "  text = re.sub('n\\'t','not',text)\n",
    "  text = re.sub('\\'re',' ',text)\n",
    "  text = re.sub('\\'s',' ',text)\n",
    "  text = re.sub('\\'d',' ',text)\n",
    "  text = re.sub('\\d+', ' ',text)\n",
    "  #text = re.sub('^a+',' ',text)\n",
    "  text = re.sub('a+mazing','amazing',text)\n",
    "  words = [word for word in word_tokenize(text) if len(word)>=2]\n",
    "  words = [word for word in words if word not in stop_words]\n",
    "  return (' ').join(words)"
   ]
  },
  {
   "cell_type": "code",
   "execution_count": 28,
   "metadata": {
    "colab": {
     "base_uri": "https://localhost:8080/",
     "height": 34
    },
    "colab_type": "code",
    "executionInfo": {
     "elapsed": 13577,
     "status": "ok",
     "timestamp": 1571672118809,
     "user": {
      "displayName": "Rakesh Nimma",
      "photoUrl": "",
      "userId": "14005108656575011618"
     },
     "user_tz": -330
    },
    "id": "LXeMjIzck1zn",
    "outputId": "851b3840-8b05-4955-b2bc-bbb487bce946"
   },
   "outputs": [
    {
     "data": {
      "text/plain": [
       "'rakesh rakesh rakesh amazing'"
      ]
     },
     "execution_count": 28,
     "metadata": {
      "tags": []
     },
     "output_type": "execute_result"
    }
   ],
   "source": [
    "clean_reviews_part_3(\"i was `` \\'\\' 30... rakesh. rakesh... - rakesh : 're  aaaaaaaaamazing \" )"
   ]
  },
  {
   "cell_type": "code",
   "execution_count": 0,
   "metadata": {
    "colab": {},
    "colab_type": "code",
    "id": "i3Q1o-qlmcUO"
   },
   "outputs": [],
   "source": [
    "data['cleaned_review'] = data['cleaned_review'].apply(clean_reviews_part_3)"
   ]
  },
  {
   "cell_type": "code",
   "execution_count": 30,
   "metadata": {
    "colab": {
     "base_uri": "https://localhost:8080/",
     "height": 666
    },
    "colab_type": "code",
    "executionInfo": {
     "elapsed": 19410,
     "status": "ok",
     "timestamp": 1571672127939,
     "user": {
      "displayName": "Rakesh Nimma",
      "photoUrl": "",
      "userId": "14005108656575011618"
     },
     "user_tz": -330
    },
    "id": "uMzS4NvYn_NR",
    "outputId": "97a52344-8932-4292-e688-944ba69cfde8"
   },
   "outputs": [
    {
     "data": {
      "text/html": [
       "<div>\n",
       "<style scoped>\n",
       "    .dataframe tbody tr th:only-of-type {\n",
       "        vertical-align: middle;\n",
       "    }\n",
       "\n",
       "    .dataframe tbody tr th {\n",
       "        vertical-align: top;\n",
       "    }\n",
       "\n",
       "    .dataframe thead th {\n",
       "        text-align: right;\n",
       "    }\n",
       "</style>\n",
       "<table border=\"1\" class=\"dataframe\">\n",
       "  <thead>\n",
       "    <tr style=\"text-align: right;\">\n",
       "      <th></th>\n",
       "      <th>business_id</th>\n",
       "      <th>date</th>\n",
       "      <th>review_id</th>\n",
       "      <th>stars</th>\n",
       "      <th>text</th>\n",
       "      <th>type</th>\n",
       "      <th>user_id</th>\n",
       "      <th>cool</th>\n",
       "      <th>useful</th>\n",
       "      <th>funny</th>\n",
       "      <th>cleaned_review</th>\n",
       "    </tr>\n",
       "  </thead>\n",
       "  <tbody>\n",
       "    <tr>\n",
       "      <th>0</th>\n",
       "      <td>9yKzy9PApeiPPOUJEtnvkg</td>\n",
       "      <td>2011-01-26</td>\n",
       "      <td>fWKvX83p0-ka4JS3dc6E5A</td>\n",
       "      <td>5</td>\n",
       "      <td>My wife took me here on my birthday for breakf...</td>\n",
       "      <td>review</td>\n",
       "      <td>rLtl8ZkDX5vH5nAx9C3q5Q</td>\n",
       "      <td>2</td>\n",
       "      <td>5</td>\n",
       "      <td>0</td>\n",
       "      <td>wife took birthday breakfast excellent weather...</td>\n",
       "    </tr>\n",
       "    <tr>\n",
       "      <th>1</th>\n",
       "      <td>ZRJwVLyzEJq1VAihDhYiow</td>\n",
       "      <td>2011-07-27</td>\n",
       "      <td>IjZ33sJrzXqU-0X6U8NwyA</td>\n",
       "      <td>5</td>\n",
       "      <td>I have no idea why some people give bad review...</td>\n",
       "      <td>review</td>\n",
       "      <td>0a2KyEL0d3Yb1V6aivbIuQ</td>\n",
       "      <td>0</td>\n",
       "      <td>0</td>\n",
       "      <td>0</td>\n",
       "      <td>idea people give bad reviews place goes show p...</td>\n",
       "    </tr>\n",
       "    <tr>\n",
       "      <th>2</th>\n",
       "      <td>6oRAC4uyJCsJl1X0WZpVSA</td>\n",
       "      <td>2012-06-14</td>\n",
       "      <td>IESLBzqUCLdSzSqm0eCSxQ</td>\n",
       "      <td>4</td>\n",
       "      <td>love the gyro plate.]Rice is so good and I als...</td>\n",
       "      <td>review</td>\n",
       "      <td>0hT2KtfLiobPvh6cDC8JQg</td>\n",
       "      <td>0</td>\n",
       "      <td>1</td>\n",
       "      <td>0</td>\n",
       "      <td>love gyro plate rice good also dig candy selec...</td>\n",
       "    </tr>\n",
       "    <tr>\n",
       "      <th>3</th>\n",
       "      <td>_1QQZuf4zZOyFCvXc0o6Vg</td>\n",
       "      <td>2010-05-27</td>\n",
       "      <td>G-WvGaISbqqaMHlNnByodA</td>\n",
       "      <td>5</td>\n",
       "      <td>Rosie, Dakota, and I LOVE Chaparral Dog Park!!...</td>\n",
       "      <td>review</td>\n",
       "      <td>uZetl9T0NcROGOyFfughhg</td>\n",
       "      <td>1</td>\n",
       "      <td>2</td>\n",
       "      <td>0</td>\n",
       "      <td>rosie dakota love chaparral dog park convenien...</td>\n",
       "    </tr>\n",
       "    <tr>\n",
       "      <th>4</th>\n",
       "      <td>6ozycU1RpktNG2-1BroVtw</td>\n",
       "      <td>2012-01-05</td>\n",
       "      <td>1uJFq2r5QfJG_6ExMRCaGw</td>\n",
       "      <td>5</td>\n",
       "      <td>General Manager Scott Petello is a good egg!!!...</td>\n",
       "      <td>review</td>\n",
       "      <td>vYmM4KTsC8ZfQBg-j5MWkw</td>\n",
       "      <td>0</td>\n",
       "      <td>0</td>\n",
       "      <td>0</td>\n",
       "      <td>general manager scott petello good egg go deta...</td>\n",
       "    </tr>\n",
       "  </tbody>\n",
       "</table>\n",
       "</div>"
      ],
      "text/plain": [
       "              business_id  ...                                     cleaned_review\n",
       "0  9yKzy9PApeiPPOUJEtnvkg  ...  wife took birthday breakfast excellent weather...\n",
       "1  ZRJwVLyzEJq1VAihDhYiow  ...  idea people give bad reviews place goes show p...\n",
       "2  6oRAC4uyJCsJl1X0WZpVSA  ...  love gyro plate rice good also dig candy selec...\n",
       "3  _1QQZuf4zZOyFCvXc0o6Vg  ...  rosie dakota love chaparral dog park convenien...\n",
       "4  6ozycU1RpktNG2-1BroVtw  ...  general manager scott petello good egg go deta...\n",
       "\n",
       "[5 rows x 11 columns]"
      ]
     },
     "execution_count": 30,
     "metadata": {
      "tags": []
     },
     "output_type": "execute_result"
    }
   ],
   "source": [
    "data.head()"
   ]
  },
  {
   "cell_type": "code",
   "execution_count": 0,
   "metadata": {
    "colab": {
     "base_uri": "https://localhost:8080/",
     "height": 1000
    },
    "colab_type": "code",
    "executionInfo": {
     "elapsed": 30966,
     "status": "ok",
     "timestamp": 1571385791369,
     "user": {
      "displayName": "Rakesh Nimma",
      "photoUrl": "",
      "userId": "14005108656575011618"
     },
     "user_tz": -330
    },
    "id": "H1W0WAfo2B9X",
    "outputId": "364ac7d9-a09f-4a36-e6c8-7110b77b232d"
   },
   "outputs": [
    {
     "data": {
      "text/plain": [
       "0       wife took birthday breakfast excellent weather...\n",
       "1       idea people give bad reviews place goes show p...\n",
       "2       love gyro plate rice good also dig candy selec...\n",
       "3       rosie dakota love chaparral dog park convenien...\n",
       "4       general manager scott petello good egg go deta...\n",
       "5       quiessence simply put beautiful full windows e...\n",
       "6       drop drive ate go back next day food good cute...\n",
       "7       luckily travel far make connecting flight than...\n",
       "8       definitely come happy hour prices amazing sake...\n",
       "9       nobuo shows unique talents everything menu car...\n",
       "10      oldish man owns store sweet perhaps sweeter co...\n",
       "11      wonderful vietnamese sandwich shoppe baguettes...\n",
       "12      limited time thing going right bbq chicken piz...\n",
       "13      good tattoo shop clean space multiple artists ...\n",
       "14      weeks new phoenix looked irish bars town found...\n",
       "15      worth salad small pizza absolutely bad service...\n",
       "16      went saturday afternoon place incredibly empty...\n",
       "17      okay best place ever grew shopping one los gat...\n",
       "18      met friend lunch yesterday loved water feature...\n",
       "19      gotten better better time since review written...\n",
       "20      dvap go least life really neat place alot hist...\n",
       "21               place even reviewed kind place want keep\n",
       "22      first time friend went delicious food garlic k...\n",
       "23      go check car wan na buy wrong move even want c...\n",
       "24      love place coming ages favorites elsa chicken ...\n",
       "25      place great nice little ole fashion homemade i...\n",
       "26      love love love place boss healthy eating recom...\n",
       "27      review mean much given depth reviewers chime n...\n",
       "28      came breakfast yesterday years since stopped r...\n",
       "29      always reliably good great beer selection well...\n",
       "                              ...                        \n",
       "9970    place super cute lunch joint sloppy joe specia...\n",
       "9971    staff great food great even cappuccino great f...\n",
       "9972    yay even though miss living coronado glad back...\n",
       "9973    wow went sunday around busy packed roomy comfo...\n",
       "9974    cowboy ciao best restaurant scottsdale cafe ca...\n",
       "9975    lived phoenix regular fez friends probably ave...\n",
       "9976    looking chile rellenos place great job making ...\n",
       "9977    wait long try neighborhood hot spot father gre...\n",
       "9978    place fabulos breakfast friends visit texas wa...\n",
       "9979    highly recommend second time see way bistec en...\n",
       "9980    stars great happy hour specials short rib taco...\n",
       "9981    brought entire family giuseppe last night pre ...\n",
       "9982    best corned beef sandwich anywhere anytime def...\n",
       "9983    stars decided check place waves space decor ni...\n",
       "9984    went last night whore foods get basics make pi...\n",
       "9985    awesome food little pricey delicious loved pow...\n",
       "9986    came december look forward next trip get tuna ...\n",
       "9987    food delicious service discriminatory bartende...\n",
       "9988    first time great time server knowledgable menu...\n",
       "9989                 great food service country food best\n",
       "9990    yes rock hipster joints dig place little bit s...\n",
       "9991    stars notes folks rated place low must isolate...\n",
       "9992    normally one jump reviewing chain restaurant e...\n",
       "9993    judging reviews maybe went good days enjoyed t...\n",
       "9994    let see like surprise stadium well tall cans p...\n",
       "9995    first visit lunch today used groupon ordered b...\n",
       "9996    called house deliciousness could go item item ...\n",
       "9997    recently visited olive ivy business last week ...\n",
       "9998    nephew moved scottsdale recently bunch friends...\n",
       "9999    locations star average think arizona really fa...\n",
       "Name: cleaned_review, Length: 10000, dtype: object"
      ]
     },
     "execution_count": 302,
     "metadata": {
      "tags": []
     },
     "output_type": "execute_result"
    }
   ],
   "source": [
    "data['cleaned_review']"
   ]
  },
  {
   "cell_type": "code",
   "execution_count": 0,
   "metadata": {
    "colab": {
     "base_uri": "https://localhost:8080/",
     "height": 54
    },
    "colab_type": "code",
    "executionInfo": {
     "elapsed": 30944,
     "status": "ok",
     "timestamp": 1571385791372,
     "user": {
      "displayName": "Rakesh Nimma",
      "photoUrl": "",
      "userId": "14005108656575011618"
     },
     "user_tz": -330
    },
    "id": "npzNs0yp6qmH",
    "outputId": "b52492f1-9cb5-4656-9e35-12830f583a53"
   },
   "outputs": [
    {
     "data": {
      "text/plain": [
       "'locations star average think arizona really fantastic pizza options spinatos top pizza fix list semi sweet sauce addictive great service fresh ingredients spicy italian favorite chocolate chips cookies laced mind altering drugs make body parts romantic think cookies btw pm tuesday left minute wait list'"
      ]
     },
     "execution_count": 303,
     "metadata": {
      "tags": []
     },
     "output_type": "execute_result"
    }
   ],
   "source": [
    "data['cleaned_review'][9999]"
   ]
  },
  {
   "cell_type": "code",
   "execution_count": 0,
   "metadata": {
    "colab": {
     "base_uri": "https://localhost:8080/",
     "height": 34
    },
    "colab_type": "code",
    "executionInfo": {
     "elapsed": 30923,
     "status": "ok",
     "timestamp": 1571385791374,
     "user": {
      "displayName": "Rakesh Nimma",
      "photoUrl": "",
      "userId": "14005108656575011618"
     },
     "user_tz": -330
    },
    "id": "3nDZZRFW6z6N",
    "outputId": "c9eebad0-0183-435d-fd8e-451311903eb0"
   },
   "outputs": [
    {
     "data": {
      "text/plain": [
       "'yes rock hipster joints dig place little bit scene food solid service great hard like great spot tend switch favorites typically hit breakfast'"
      ]
     },
     "execution_count": 304,
     "metadata": {
      "tags": []
     },
     "output_type": "execute_result"
    }
   ],
   "source": [
    "data['cleaned_review'][9990]"
   ]
  },
  {
   "cell_type": "code",
   "execution_count": 0,
   "metadata": {
    "colab": {},
    "colab_type": "code",
    "id": "WRzhzPyM7bQ5"
   },
   "outputs": [],
   "source": [
    "## Checking Weather we any special charecter alphabet\n",
    "def chk_splApl(text):\n",
    "  words = word_tokenize(text)\n",
    "  spl_word =[]\n",
    "  for i in words:\n",
    "    if not i.isalpha():\n",
    "      spl_word.append(i)\n",
    "  \n",
    "  return spl_word"
   ]
  },
  {
   "cell_type": "code",
   "execution_count": 0,
   "metadata": {
    "colab": {
     "base_uri": "https://localhost:8080/",
     "height": 34
    },
    "colab_type": "code",
    "executionInfo": {
     "elapsed": 30888,
     "status": "ok",
     "timestamp": 1571385791376,
     "user": {
      "displayName": "Rakesh Nimma",
      "photoUrl": "",
      "userId": "14005108656575011618"
     },
     "user_tz": -330
    },
    "id": "r1XoivDs-Dfv",
    "outputId": "1501f00c-579f-4878-86df-146d7339aaf2"
   },
   "outputs": [
    {
     "data": {
      "text/plain": [
       "[\"'\", \"Ra'kesh\", \"'re\", \"'\"]"
      ]
     },
     "execution_count": 306,
     "metadata": {
      "tags": []
     },
     "output_type": "execute_result"
    }
   ],
   "source": [
    "chk_splApl(\"Hi is' Ra'kesh 're'\")"
   ]
  },
  {
   "cell_type": "code",
   "execution_count": 0,
   "metadata": {
    "colab": {},
    "colab_type": "code",
    "id": "ga80OfU7-Kx0"
   },
   "outputs": [],
   "source": [
    "data['spl_Alp'] = data['cleaned_review'].apply(chk_splApl)"
   ]
  },
  {
   "cell_type": "code",
   "execution_count": 0,
   "metadata": {
    "colab": {
     "base_uri": "https://localhost:8080/",
     "height": 1000
    },
    "colab_type": "code",
    "executionInfo": {
     "elapsed": 34463,
     "status": "ok",
     "timestamp": 1571385794987,
     "user": {
      "displayName": "Rakesh Nimma",
      "photoUrl": "",
      "userId": "14005108656575011618"
     },
     "user_tz": -330
    },
    "id": "SzbOluCE-q2b",
    "outputId": "397a74ac-d442-4766-8eb2-5a12fa3e5f24"
   },
   "outputs": [
    {
     "data": {
      "text/plain": [
       "0       []\n",
       "1       []\n",
       "2       []\n",
       "3       []\n",
       "4       []\n",
       "5       []\n",
       "6       []\n",
       "7       []\n",
       "8       []\n",
       "9       []\n",
       "10      []\n",
       "11      []\n",
       "12      []\n",
       "13      []\n",
       "14      []\n",
       "15      []\n",
       "16      []\n",
       "17      []\n",
       "18      []\n",
       "19      []\n",
       "20      []\n",
       "21      []\n",
       "22      []\n",
       "23      []\n",
       "24      []\n",
       "25      []\n",
       "26      []\n",
       "27      []\n",
       "28      []\n",
       "29      []\n",
       "        ..\n",
       "9970    []\n",
       "9971    []\n",
       "9972    []\n",
       "9973    []\n",
       "9974    []\n",
       "9975    []\n",
       "9976    []\n",
       "9977    []\n",
       "9978    []\n",
       "9979    []\n",
       "9980    []\n",
       "9981    []\n",
       "9982    []\n",
       "9983    []\n",
       "9984    []\n",
       "9985    []\n",
       "9986    []\n",
       "9987    []\n",
       "9988    []\n",
       "9989    []\n",
       "9990    []\n",
       "9991    []\n",
       "9992    []\n",
       "9993    []\n",
       "9994    []\n",
       "9995    []\n",
       "9996    []\n",
       "9997    []\n",
       "9998    []\n",
       "9999    []\n",
       "Name: spl_Alp, Length: 10000, dtype: object"
      ]
     },
     "execution_count": 308,
     "metadata": {
      "tags": []
     },
     "output_type": "execute_result"
    }
   ],
   "source": [
    "data['spl_Alp']"
   ]
  },
  {
   "cell_type": "code",
   "execution_count": 31,
   "metadata": {
    "colab": {
     "base_uri": "https://localhost:8080/",
     "height": 666
    },
    "colab_type": "code",
    "executionInfo": {
     "elapsed": 1080,
     "status": "ok",
     "timestamp": 1571672133433,
     "user": {
      "displayName": "Rakesh Nimma",
      "photoUrl": "",
      "userId": "14005108656575011618"
     },
     "user_tz": -330
    },
    "id": "n9eYCPC1-wU_",
    "outputId": "17634db5-c0d2-415f-adad-d3eccf411cc9"
   },
   "outputs": [
    {
     "data": {
      "text/html": [
       "<div>\n",
       "<style scoped>\n",
       "    .dataframe tbody tr th:only-of-type {\n",
       "        vertical-align: middle;\n",
       "    }\n",
       "\n",
       "    .dataframe tbody tr th {\n",
       "        vertical-align: top;\n",
       "    }\n",
       "\n",
       "    .dataframe thead th {\n",
       "        text-align: right;\n",
       "    }\n",
       "</style>\n",
       "<table border=\"1\" class=\"dataframe\">\n",
       "  <thead>\n",
       "    <tr style=\"text-align: right;\">\n",
       "      <th></th>\n",
       "      <th>business_id</th>\n",
       "      <th>date</th>\n",
       "      <th>review_id</th>\n",
       "      <th>stars</th>\n",
       "      <th>text</th>\n",
       "      <th>type</th>\n",
       "      <th>user_id</th>\n",
       "      <th>cool</th>\n",
       "      <th>useful</th>\n",
       "      <th>funny</th>\n",
       "      <th>cleaned_review</th>\n",
       "    </tr>\n",
       "  </thead>\n",
       "  <tbody>\n",
       "    <tr>\n",
       "      <th>0</th>\n",
       "      <td>9yKzy9PApeiPPOUJEtnvkg</td>\n",
       "      <td>2011-01-26</td>\n",
       "      <td>fWKvX83p0-ka4JS3dc6E5A</td>\n",
       "      <td>5</td>\n",
       "      <td>My wife took me here on my birthday for breakf...</td>\n",
       "      <td>review</td>\n",
       "      <td>rLtl8ZkDX5vH5nAx9C3q5Q</td>\n",
       "      <td>2</td>\n",
       "      <td>5</td>\n",
       "      <td>0</td>\n",
       "      <td>wife took birthday breakfast excellent weather...</td>\n",
       "    </tr>\n",
       "    <tr>\n",
       "      <th>1</th>\n",
       "      <td>ZRJwVLyzEJq1VAihDhYiow</td>\n",
       "      <td>2011-07-27</td>\n",
       "      <td>IjZ33sJrzXqU-0X6U8NwyA</td>\n",
       "      <td>5</td>\n",
       "      <td>I have no idea why some people give bad review...</td>\n",
       "      <td>review</td>\n",
       "      <td>0a2KyEL0d3Yb1V6aivbIuQ</td>\n",
       "      <td>0</td>\n",
       "      <td>0</td>\n",
       "      <td>0</td>\n",
       "      <td>idea people give bad reviews place goes show p...</td>\n",
       "    </tr>\n",
       "    <tr>\n",
       "      <th>2</th>\n",
       "      <td>6oRAC4uyJCsJl1X0WZpVSA</td>\n",
       "      <td>2012-06-14</td>\n",
       "      <td>IESLBzqUCLdSzSqm0eCSxQ</td>\n",
       "      <td>4</td>\n",
       "      <td>love the gyro plate.]Rice is so good and I als...</td>\n",
       "      <td>review</td>\n",
       "      <td>0hT2KtfLiobPvh6cDC8JQg</td>\n",
       "      <td>0</td>\n",
       "      <td>1</td>\n",
       "      <td>0</td>\n",
       "      <td>love gyro plate rice good also dig candy selec...</td>\n",
       "    </tr>\n",
       "    <tr>\n",
       "      <th>3</th>\n",
       "      <td>_1QQZuf4zZOyFCvXc0o6Vg</td>\n",
       "      <td>2010-05-27</td>\n",
       "      <td>G-WvGaISbqqaMHlNnByodA</td>\n",
       "      <td>5</td>\n",
       "      <td>Rosie, Dakota, and I LOVE Chaparral Dog Park!!...</td>\n",
       "      <td>review</td>\n",
       "      <td>uZetl9T0NcROGOyFfughhg</td>\n",
       "      <td>1</td>\n",
       "      <td>2</td>\n",
       "      <td>0</td>\n",
       "      <td>rosie dakota love chaparral dog park convenien...</td>\n",
       "    </tr>\n",
       "    <tr>\n",
       "      <th>4</th>\n",
       "      <td>6ozycU1RpktNG2-1BroVtw</td>\n",
       "      <td>2012-01-05</td>\n",
       "      <td>1uJFq2r5QfJG_6ExMRCaGw</td>\n",
       "      <td>5</td>\n",
       "      <td>General Manager Scott Petello is a good egg!!!...</td>\n",
       "      <td>review</td>\n",
       "      <td>vYmM4KTsC8ZfQBg-j5MWkw</td>\n",
       "      <td>0</td>\n",
       "      <td>0</td>\n",
       "      <td>0</td>\n",
       "      <td>general manager scott petello good egg go deta...</td>\n",
       "    </tr>\n",
       "  </tbody>\n",
       "</table>\n",
       "</div>"
      ],
      "text/plain": [
       "              business_id  ...                                     cleaned_review\n",
       "0  9yKzy9PApeiPPOUJEtnvkg  ...  wife took birthday breakfast excellent weather...\n",
       "1  ZRJwVLyzEJq1VAihDhYiow  ...  idea people give bad reviews place goes show p...\n",
       "2  6oRAC4uyJCsJl1X0WZpVSA  ...  love gyro plate rice good also dig candy selec...\n",
       "3  _1QQZuf4zZOyFCvXc0o6Vg  ...  rosie dakota love chaparral dog park convenien...\n",
       "4  6ozycU1RpktNG2-1BroVtw  ...  general manager scott petello good egg go deta...\n",
       "\n",
       "[5 rows x 11 columns]"
      ]
     },
     "execution_count": 31,
     "metadata": {
      "tags": []
     },
     "output_type": "execute_result"
    }
   ],
   "source": [
    "data.head()"
   ]
  },
  {
   "cell_type": "code",
   "execution_count": 0,
   "metadata": {
    "colab": {
     "base_uri": "https://localhost:8080/",
     "height": 300
    },
    "colab_type": "code",
    "executionInfo": {
     "elapsed": 34419,
     "status": "ok",
     "timestamp": 1571385794990,
     "user": {
      "displayName": "Rakesh Nimma",
      "photoUrl": "",
      "userId": "14005108656575011618"
     },
     "user_tz": -330
    },
    "id": "l_Kagr-0Dfyp",
    "outputId": "7abd0761-a149-4e30-cac5-dcdd2401478f"
   },
   "outputs": [
    {
     "data": {
      "text/plain": [
       "<matplotlib.axes._subplots.AxesSubplot at 0x7f8d39e09e80>"
      ]
     },
     "execution_count": 310,
     "metadata": {
      "tags": []
     },
     "output_type": "execute_result"
    },
    {
     "data": {
      "image/png": "[encoded data removed]",
      "text/plain": [
       "<Figure size 432x288 with 1 Axes>"
      ]
     },
     "metadata": {
      "tags": []
     },
     "output_type": "display_data"
    }
   ],
   "source": [
    "sb.countplot(data.stars)"
   ]
  },
  {
   "cell_type": "code",
   "execution_count": 0,
   "metadata": {
    "colab": {},
    "colab_type": "code",
    "id": "10SJ8Ih6EQJ4"
   },
   "outputs": [],
   "source": [
    "## Normalizing the words\n",
    "def normalize_text(text):\n",
    "  words = [lemmatizer.lemmatize(word) for word in word_tokenize(text)]\n",
    "  return (' ').join(words)"
   ]
  },
  {
   "cell_type": "code",
   "execution_count": 0,
   "metadata": {
    "colab": {},
    "colab_type": "code",
    "id": "rqWCR4OKFmCp"
   },
   "outputs": [],
   "source": [
    "data['normalized_text'] = data['cleaned_review'].apply(normalize_text)"
   ]
  },
  {
   "cell_type": "code",
   "execution_count": 34,
   "metadata": {
    "colab": {
     "base_uri": "https://localhost:8080/",
     "height": 1000
    },
    "colab_type": "code",
    "executionInfo": {
     "elapsed": 8704,
     "status": "ok",
     "timestamp": 1571672148087,
     "user": {
      "displayName": "Rakesh Nimma",
      "photoUrl": "",
      "userId": "14005108656575011618"
     },
     "user_tz": -330
    },
    "id": "s47WueZYGbey",
    "outputId": "e38aa795-cc5a-4407-c440-c2ea8584b27c"
   },
   "outputs": [
    {
     "data": {
      "text/plain": [
       "0       wife took birthday breakfast excellent weather...\n",
       "1       idea people give bad review place go show plea...\n",
       "2       love gyro plate rice good also dig candy selec...\n",
       "3       rosie dakota love chaparral dog park convenien...\n",
       "4       general manager scott petello good egg go deta...\n",
       "5       quiessence simply put beautiful full window ea...\n",
       "6       drop drive ate go back next day food good cute...\n",
       "7       luckily travel far make connecting flight than...\n",
       "8       definitely come happy hour price amazing sake ...\n",
       "9       nobuo show unique talent everything menu caref...\n",
       "10      oldish man owns store sweet perhaps sweeter co...\n",
       "11      wonderful vietnamese sandwich shoppe baguette ...\n",
       "12      limited time thing going right bbq chicken piz...\n",
       "13      good tattoo shop clean space multiple artist c...\n",
       "14      week new phoenix looked irish bar town found r...\n",
       "15      worth salad small pizza absolutely bad service...\n",
       "16      went saturday afternoon place incredibly empty...\n",
       "17      okay best place ever grew shopping one los gat...\n",
       "18      met friend lunch yesterday loved water feature...\n",
       "19      gotten better better time since review written...\n",
       "20      dvap go least life really neat place alot hist...\n",
       "21               place even reviewed kind place want keep\n",
       "22      first time friend went delicious food garlic k...\n",
       "23      go check car wan na buy wrong move even want c...\n",
       "24      love place coming age favorite elsa chicken sa...\n",
       "25      place great nice little ole fashion homemade i...\n",
       "26      love love love place bos healthy eating recomm...\n",
       "27      review mean much given depth reviewer chime no...\n",
       "28      came breakfast yesterday year since stopped re...\n",
       "29      always reliably good great beer selection well...\n",
       "                              ...                        \n",
       "9970    place super cute lunch joint sloppy joe specia...\n",
       "9971    staff great food great even cappuccino great f...\n",
       "9972    yay even though miss living coronado glad back...\n",
       "9973    wow went sunday around busy packed roomy comfo...\n",
       "9974    cowboy ciao best restaurant scottsdale cafe ca...\n",
       "9975    lived phoenix regular fez friend probably aver...\n",
       "9976    looking chile rellenos place great job making ...\n",
       "9977    wait long try neighborhood hot spot father gre...\n",
       "9978    place fabulos breakfast friend visit texas wai...\n",
       "9979    highly recommend second time see way bistec en...\n",
       "9980    star great happy hour special short rib taco f...\n",
       "9981    brought entire family giuseppe last night pre ...\n",
       "9982    best corned beef sandwich anywhere anytime def...\n",
       "9983    star decided check place wave space decor nice...\n",
       "9984    went last night whore food get basic make pizz...\n",
       "9985    awesome food little pricey delicious loved pow...\n",
       "9986    came december look forward next trip get tuna ...\n",
       "9987    food delicious service discriminatory bartende...\n",
       "9988    first time great time server knowledgable menu...\n",
       "9989                 great food service country food best\n",
       "9990    yes rock hipster joint dig place little bit sc...\n",
       "9991    star note folk rated place low must isolated i...\n",
       "9992    normally one jump reviewing chain restaurant e...\n",
       "9993    judging review maybe went good day enjoyed tri...\n",
       "9994    let see like surprise stadium well tall can pb...\n",
       "9995    first visit lunch today used groupon ordered b...\n",
       "9996    called house deliciousness could go item item ...\n",
       "9997    recently visited olive ivy business last week ...\n",
       "9998    nephew moved scottsdale recently bunch friend ...\n",
       "9999    location star average think arizona really fan...\n",
       "Name: normalized_text, Length: 10000, dtype: object"
      ]
     },
     "execution_count": 34,
     "metadata": {
      "tags": []
     },
     "output_type": "execute_result"
    }
   ],
   "source": [
    "data['normalized_text']"
   ]
  },
  {
   "cell_type": "code",
   "execution_count": 35,
   "metadata": {
    "colab": {
     "base_uri": "https://localhost:8080/",
     "height": 666
    },
    "colab_type": "code",
    "executionInfo": {
     "elapsed": 1094,
     "status": "ok",
     "timestamp": 1571672153063,
     "user": {
      "displayName": "Rakesh Nimma",
      "photoUrl": "",
      "userId": "14005108656575011618"
     },
     "user_tz": -330
    },
    "id": "GkT0-D9XIQe0",
    "outputId": "2152e07f-1c75-47be-f9e0-a9168ff284e0"
   },
   "outputs": [
    {
     "data": {
      "text/html": [
       "<div>\n",
       "<style scoped>\n",
       "    .dataframe tbody tr th:only-of-type {\n",
       "        vertical-align: middle;\n",
       "    }\n",
       "\n",
       "    .dataframe tbody tr th {\n",
       "        vertical-align: top;\n",
       "    }\n",
       "\n",
       "    .dataframe thead th {\n",
       "        text-align: right;\n",
       "    }\n",
       "</style>\n",
       "<table border=\"1\" class=\"dataframe\">\n",
       "  <thead>\n",
       "    <tr style=\"text-align: right;\">\n",
       "      <th></th>\n",
       "      <th>business_id</th>\n",
       "      <th>date</th>\n",
       "      <th>review_id</th>\n",
       "      <th>stars</th>\n",
       "      <th>text</th>\n",
       "      <th>type</th>\n",
       "      <th>user_id</th>\n",
       "      <th>cool</th>\n",
       "      <th>useful</th>\n",
       "      <th>funny</th>\n",
       "      <th>cleaned_review</th>\n",
       "      <th>normalized_text</th>\n",
       "    </tr>\n",
       "  </thead>\n",
       "  <tbody>\n",
       "    <tr>\n",
       "      <th>0</th>\n",
       "      <td>9yKzy9PApeiPPOUJEtnvkg</td>\n",
       "      <td>2011-01-26</td>\n",
       "      <td>fWKvX83p0-ka4JS3dc6E5A</td>\n",
       "      <td>5</td>\n",
       "      <td>My wife took me here on my birthday for breakf...</td>\n",
       "      <td>review</td>\n",
       "      <td>rLtl8ZkDX5vH5nAx9C3q5Q</td>\n",
       "      <td>2</td>\n",
       "      <td>5</td>\n",
       "      <td>0</td>\n",
       "      <td>wife took birthday breakfast excellent weather...</td>\n",
       "      <td>wife took birthday breakfast excellent weather...</td>\n",
       "    </tr>\n",
       "    <tr>\n",
       "      <th>1</th>\n",
       "      <td>ZRJwVLyzEJq1VAihDhYiow</td>\n",
       "      <td>2011-07-27</td>\n",
       "      <td>IjZ33sJrzXqU-0X6U8NwyA</td>\n",
       "      <td>5</td>\n",
       "      <td>I have no idea why some people give bad review...</td>\n",
       "      <td>review</td>\n",
       "      <td>0a2KyEL0d3Yb1V6aivbIuQ</td>\n",
       "      <td>0</td>\n",
       "      <td>0</td>\n",
       "      <td>0</td>\n",
       "      <td>idea people give bad reviews place goes show p...</td>\n",
       "      <td>idea people give bad review place go show plea...</td>\n",
       "    </tr>\n",
       "    <tr>\n",
       "      <th>2</th>\n",
       "      <td>6oRAC4uyJCsJl1X0WZpVSA</td>\n",
       "      <td>2012-06-14</td>\n",
       "      <td>IESLBzqUCLdSzSqm0eCSxQ</td>\n",
       "      <td>4</td>\n",
       "      <td>love the gyro plate.]Rice is so good and I als...</td>\n",
       "      <td>review</td>\n",
       "      <td>0hT2KtfLiobPvh6cDC8JQg</td>\n",
       "      <td>0</td>\n",
       "      <td>1</td>\n",
       "      <td>0</td>\n",
       "      <td>love gyro plate rice good also dig candy selec...</td>\n",
       "      <td>love gyro plate rice good also dig candy selec...</td>\n",
       "    </tr>\n",
       "    <tr>\n",
       "      <th>3</th>\n",
       "      <td>_1QQZuf4zZOyFCvXc0o6Vg</td>\n",
       "      <td>2010-05-27</td>\n",
       "      <td>G-WvGaISbqqaMHlNnByodA</td>\n",
       "      <td>5</td>\n",
       "      <td>Rosie, Dakota, and I LOVE Chaparral Dog Park!!...</td>\n",
       "      <td>review</td>\n",
       "      <td>uZetl9T0NcROGOyFfughhg</td>\n",
       "      <td>1</td>\n",
       "      <td>2</td>\n",
       "      <td>0</td>\n",
       "      <td>rosie dakota love chaparral dog park convenien...</td>\n",
       "      <td>rosie dakota love chaparral dog park convenien...</td>\n",
       "    </tr>\n",
       "    <tr>\n",
       "      <th>4</th>\n",
       "      <td>6ozycU1RpktNG2-1BroVtw</td>\n",
       "      <td>2012-01-05</td>\n",
       "      <td>1uJFq2r5QfJG_6ExMRCaGw</td>\n",
       "      <td>5</td>\n",
       "      <td>General Manager Scott Petello is a good egg!!!...</td>\n",
       "      <td>review</td>\n",
       "      <td>vYmM4KTsC8ZfQBg-j5MWkw</td>\n",
       "      <td>0</td>\n",
       "      <td>0</td>\n",
       "      <td>0</td>\n",
       "      <td>general manager scott petello good egg go deta...</td>\n",
       "      <td>general manager scott petello good egg go deta...</td>\n",
       "    </tr>\n",
       "  </tbody>\n",
       "</table>\n",
       "</div>"
      ],
      "text/plain": [
       "              business_id  ...                                    normalized_text\n",
       "0  9yKzy9PApeiPPOUJEtnvkg  ...  wife took birthday breakfast excellent weather...\n",
       "1  ZRJwVLyzEJq1VAihDhYiow  ...  idea people give bad review place go show plea...\n",
       "2  6oRAC4uyJCsJl1X0WZpVSA  ...  love gyro plate rice good also dig candy selec...\n",
       "3  _1QQZuf4zZOyFCvXc0o6Vg  ...  rosie dakota love chaparral dog park convenien...\n",
       "4  6ozycU1RpktNG2-1BroVtw  ...  general manager scott petello good egg go deta...\n",
       "\n",
       "[5 rows x 12 columns]"
      ]
     },
     "execution_count": 35,
     "metadata": {
      "tags": []
     },
     "output_type": "execute_result"
    }
   ],
   "source": [
    "data.head()"
   ]
  },
  {
   "cell_type": "code",
   "execution_count": 0,
   "metadata": {
    "colab": {},
    "colab_type": "code",
    "id": "-EbWl51A9hm3"
   },
   "outputs": [],
   "source": [
    "data.to_pickle('/content/drive/My Drive/Recommendation Food Restaurant/cleaned_data.pkl')"
   ]
  }
 ],
 "metadata": {
  "colab": {
   "collapsed_sections": [],
   "name": "Food Recommendation.ipynb",
   "provenance": []
  },
  "kernelspec": {
   "display_name": "Python 3",
   "language": "python",
   "name": "python3"
  },
  "language_info": {
   "codemirror_mode": {
    "name": "ipython",
    "version": 3
   },
   "file_extension": ".py",
   "mimetype": "text/x-python",
   "name": "python",
   "nbconvert_exporter": "python",
   "pygments_lexer": "ipython3",
   "version": "3.6.9"
  }
 },
 "nbformat": 4,
 "nbformat_minor": 1
}
